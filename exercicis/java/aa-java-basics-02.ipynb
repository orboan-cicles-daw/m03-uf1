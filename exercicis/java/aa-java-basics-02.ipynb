{
 "cells": [
  {
   "cell_type": "markdown",
   "id": "289cd15c-a48c-4855-b681-4667dff47fcd",
   "metadata": {},
   "source": [
    "# Type: Exercici Pràctic\n",
    "# Programming Language: Java\n",
    "# Tools: notebook, git\n",
    "# Contents: Paràmetres per valor i referència, arrays, algorismes bàsics d'ordenació i de cerca\n",
    "\n",
    "## Exercici: Paràmetres per valor i referència, arrays, algorismes bàsics d'ordenació i de cerca.\n",
    "\n",
    "En aquest exercici haureu de respondre les següents preguntes, substituint allà on posi //TODO per la vostra resposta."
   ]
  },
  {
   "cell_type": "markdown",
   "id": "60f3d3e4-c0d0-41af-9262-b2e2331473a9",
   "metadata": {},
   "source": [
    "### Preguntes"
   ]
  },
  {
   "cell_type": "markdown",
   "id": "1871e264-afc3-4ebd-9bb3-c176cc4763e3",
   "metadata": {},
   "source": [
    "#### Pregunta 1 - Arrays\n",
    "\n",
    "Escriu una funció, la signatura de la qual serà\n",
    "\n",
    "```\n",
    "int getSum(int[] n);\n",
    "```\n",
    "\n",
    "que retorni un enter resultat de la suma de tots els enters que composen l'array.\n",
    "\n",
    "Escriu aquesta funció a continuació:\n",
    "\n",
    "//TODO\n",
    "\n",
    "Ara, escriu una altra funció, que tindrà per signatura:\n",
    "\n",
    "```\n",
    "int[] addArraysReverse(int[] a, int[] b);\n",
    "```\n",
    "que retorni un array els valors del qual siguin el resultat de sumar el primer element del primer array, amb l'últim del segon array;\n",
    "el segon element del primer array, amb el penúltim element del segon array; el tercer element del primer array amb l'avantpenúltim element\n",
    "del segon array; i així successivament. Exemple:\n",
    "\n",
    "```\n",
    "int[] a = {1,3,6}; int[] b = {4,2,1};\n",
    "int[] resultat = addArraysReverse(a, b);\n",
    "```\n",
    "resultat ha de ser igual a [2,5,10].\n",
    "\n",
    "//TODO (escriu aquí la funció int[] addArraysReverse(int[] a, int[] b); )"
   ]
  },
  {
   "cell_type": "code",
   "execution_count": 11,
   "id": "e409f71b-4ee1-4aac-85e8-56c0d46f8154",
   "metadata": {},
   "outputs": [],
   "source": [
    "int getSum1(int[] numeros){\n",
    "    int suma = 0;\n",
    "    int index = 0;\n",
    "    while(index < numeros.length){\n",
    "        suma = suma + numeros[index];\n",
    "        index++;\n",
    "    }\n",
    "    return suma;\n",
    "}\n",
    "\n",
    "int getSum2(int[] numeros){\n",
    "    int suma = 0;\n",
    "    for ( int index = 0; index < numeros.length; index++){\n",
    "        suma = suma + numeros[index];        \n",
    "    }\n",
    "    return suma;\n",
    "}\n",
    "\n",
    "int getSum3(int[] numeros){\n",
    "    int suma = 0;\n",
    "    for(int num : numeros){\n",
    "        suma += num;        \n",
    "    }\n",
    "    return suma;\n",
    "}"
   ]
  },
  {
   "cell_type": "code",
   "execution_count": 13,
   "id": "ba5c9324-0c2d-403f-937e-facad17aa49a",
   "metadata": {},
   "outputs": [
    {
     "name": "stdout",
     "output_type": "stream",
     "text": [
      "171\n",
      "171\n",
      "171"
     ]
    }
   ],
   "source": [
    "int[] nfjdkgjklda = {3,6,22,33,-43,45,78,1,0,26};\n",
    "println(getSum1(nfjdkgjklda));\n",
    "println(getSum2(nfjdkgjklda));\n",
    "print(getSum3(nfjdkgjklda));"
   ]
  },
  {
   "cell_type": "markdown",
   "id": "fab8ba9e-11d9-4c47-a34d-2aed42afcfd3",
   "metadata": {},
   "source": [
    "#### Pregunta 2 - Arrays\n",
    "\n",
    "En aquest exercici has de crear una funció que imprimeixi una cadena de texte, essent els caràcters que formen la cadena els elements\n",
    "d'un array de tipus char que se li passarà com a paràmetre:\n",
    "\n",
    "```\n",
    "void printString(char[] c);\n",
    "```\n",
    "//TODO \n",
    "\n",
    "A continuació, implementa la següent funció, que passant-li un array de tipus char, t'imprimeixi la corresponent cadena de text, però \n",
    "ara amb tots els caràcters en majúscula. Si algun element de l'array de chars ja està en majúscula o bé \n",
    "no és una lletra de l'abecedari, no farà res, és a dir, l'imprimirà tal qual. \n",
    "\n",
    "```\n",
    "void printUpperCaseString(char[] c);\n",
    "```\n",
    "//TODO "
   ]
  },
  {
   "cell_type": "markdown",
   "id": "e6b5faa9-5cfb-4a8d-8fc8-38383c696b15",
   "metadata": {},
   "source": [
    "#### Pregunta 3 - Algorismes d'ordenació\n",
    "\n",
    "Escriu una funció, amb la següent signatura, que ordeni un array d'enters seguin l'algorisme \"Insertion sort\", que trobareu\n",
    "explicat a:\n",
    "\n",
    "[Insertion Sort](https://youtu.be/i-SKeOcBwko?list=PL2_aWCzGMAwKedT2KfDMB9YA5DgASZb3U)\n",
    "\n",
    "```\n",
    "void insertionSortArray(int[] array);\n",
    "```\n",
    "\n",
    "//TODO"
   ]
  },
  {
   "cell_type": "markdown",
   "id": "3f3b8ca0-c07b-4f9f-8d1a-16cda18717a3",
   "metadata": {},
   "source": [
    "#### Pregunta 4\n",
    "\n",
    "4.1- Explica les diferències entre passar un paràmetre per valor i passar un paràmetre per referència. Posa'n exemples.\n",
    "\n",
    "//TODO Resposta aquí\n",
    "\n",
    "4.2- Posa exemples d'ús de la memòria HEAP i d'ús de la memòria STACK\n",
    "\n",
    "//TODO Resposta aquí \n",
    "\n",
    "4.3- Escriu una funció que produeixi un error de tipus StackOverflow\n",
    "\n",
    "//TODO Resposta aquí\n",
    "\n",
    "4.4- Escriu una funció que produeixi una excepció de tipus IndexOutOfBoundsException\n",
    "\n",
    "//TODO Resposta aquí"
   ]
  },
  {
   "cell_type": "markdown",
   "id": "745023f4-08d4-45cb-a861-98145ff101ab",
   "metadata": {},
   "source": [
    "#### Pregunta 5 - Algorismes de cerca\n",
    "\n",
    "Escriu una funció que, donat un array de chars, trobi l'índex de la primera posició on es trobi la lletra (char) que se li passi, també\n",
    "com a paràmetre. És obligatori usar l'algorisme de **cerca binària** (cal per tant que primer ordenis l'array, \n",
    "per la qual cosa pots usar l'algorisme bubbleSort o el quickSort).\n",
    "\n",
    "La signatura d'aquesta funció serà:\n",
    "\n",
    "```\n",
    "int indexOf(char[] array, char c);\n",
    "```\n",
    "Escriu la funció de cerca a continuació:\n",
    "\n",
    "//TODO\n",
    "\n",
    "Escriu la funció d'ordenació de l'array de chars que hagis escollit, a continuació (aquesta funció serà usada per l'anterior de cerca,\n",
    "doncs a la funció de cerca li podrem passar qualsevol array de chars, estiguin ordenats o no):\n",
    "\n",
    "//TODO"
   ]
  },
  {
   "cell_type": "code",
   "execution_count": null,
   "id": "e2bda9e5-b9f2-46d7-b841-5cd7654b346b",
   "metadata": {},
   "outputs": [],
   "source": []
  }
 ],
 "metadata": {
  "kernelspec": {
   "display_name": "Java",
   "language": "java",
   "name": "java"
  },
  "language_info": {
   "codemirror_mode": "java",
   "file_extension": ".jshell",
   "mimetype": "text/x-java-source",
   "name": "Java",
   "pygments_lexer": "java",
   "version": "11.0.17+8-LTS"
  }
 },
 "nbformat": 4,
 "nbformat_minor": 5
}

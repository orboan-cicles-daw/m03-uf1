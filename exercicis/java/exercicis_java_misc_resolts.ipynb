{
 "cells": [
  {
   "cell_type": "code",
   "execution_count": 5,
   "id": "744b2e44",
   "metadata": {
    "ExecuteTime": {
     "end_time": "2021-12-10T17:15+0000",
     "start_time": "2021-12-10T17:15:18.792Z"
    }
   },
   "outputs": [
    {
     "name": "stdout",
     "output_type": "stream",
     "text": [
      "La suma és igual a 34"
     ]
    }
   ],
   "source": [
    "int sumNums(int[] nums){\n",
    "    int suma = 0;\n",
    "    for(int i = 0; i < nums.length; i++){\n",
    "        suma += nums[i];\n",
    "    }\n",
    "    return suma;\n",
    "}\n",
    "\n",
    "int[] test = {3,5,4,7,-3,7,2,9};\n",
    "\n",
    "printf(\"La suma és igual a %d\", sumNums(test));"
   ]
  },
  {
   "cell_type": "code",
   "execution_count": 6,
   "id": "a85d5e55",
   "metadata": {
    "ExecuteTime": {
     "end_time": "2021-12-10T17:17+0000",
     "start_time": "2021-12-10T17:17:03.377Z"
    }
   },
   "outputs": [
    {
     "name": "stdout",
     "output_type": "stream",
     "text": [
      "La suma del tots els núms. dels 2 arrays és igual a 75"
     ]
    }
   ],
   "source": [
    "int sumNums2(int[] narr1, int[] narr2){\n",
    "    return sumNums(narr1) + sumNums(narr2);\n",
    "}\n",
    "\n",
    "int[] prova1 = {3,6,7,4,9,2,1,8};\n",
    "int[] prova2 = {5,-2,-4,4,8,6,7,11};\n",
    "printf(\"La suma del tots els núms. dels 2 arrays és igual a %d\",\n",
    "        sumNums2(prova1,prova2));"
   ]
  },
  {
   "cell_type": "code",
   "execution_count": 18,
   "id": "99ccbfe3",
   "metadata": {
    "ExecuteTime": {
     "end_time": "2021-12-10T18:46+0000",
     "start_time": "2021-12-10T18:46:07.121Z"
    }
   },
   "outputs": [],
   "source": [
    "int getMinLength(int[] narr1, int[] narr2){\n",
    "    int mida;\n",
    "    if(narr1.length < narr2.length){\n",
    "        mida = narr1.length;\n",
    "    } else {\n",
    "        mida = narr2.length;\n",
    "    }\n",
    "    return mida;\n",
    "}"
   ]
  },
  {
   "cell_type": "code",
   "execution_count": 8,
   "id": "b2c1cb4d",
   "metadata": {
    "ExecuteTime": {
     "end_time": "2021-12-10T18:15+0000",
     "start_time": "2021-12-10T18:15:42.437Z"
    }
   },
   "outputs": [],
   "source": [
    "int[] sumPerParelles(int[] narr1, int[] narr2){\n",
    "    int mida = getMinLength(narr1, narr2);\n",
    "    int[] resultat = new int[mida];\n",
    "    for(int index = 0; index < mida; index++){\n",
    "        resultat[index] = narr1[index] + narr2[index];\n",
    "    }\n",
    "    return resultat;\n",
    "}"
   ]
  },
  {
   "cell_type": "code",
   "execution_count": 14,
   "id": "0b74eea2",
   "metadata": {
    "ExecuteTime": {
     "end_time": "2021-12-10T18:20+0000",
     "start_time": "2021-12-10T18:20:30.186Z"
    }
   },
   "outputs": [
    {
     "name": "stdout",
     "output_type": "stream",
     "text": [
      "Mida de l'array resultat = 7\n",
      "[2, 4, 6, 10, 10, 13, 14]\n"
     ]
    }
   ],
   "source": [
    "int[] arr1 = {1,2,3,4,5,6,7,8,9};\n",
    "int[] arr2 = {1,2,3,6,5,7,7};\n",
    "int[] resultat = sumPerParelles(arr1, arr2);\n",
    "printf(\"Mida de l'array resultat = %d%n\", resultat.length);\n",
    "println(Arrays.toString(resultat));"
   ]
  },
  {
   "cell_type": "code",
   "execution_count": 16,
   "id": "ebe351ef",
   "metadata": {
    "ExecuteTime": {
     "end_time": "2021-12-10T18:36+0000",
     "start_time": "2021-12-10T18:36:43.527Z"
    }
   },
   "outputs": [
    {
     "name": "stdout",
     "output_type": "stream",
     "text": [
      "[7, 5, 3, 2, 1]\n"
     ]
    }
   ],
   "source": [
    "int[] reverse(int[] arr){   \n",
    "    int[] reverse = new int[arr.length];\n",
    "    for(int index = arr.length - 1; index >= 0; index--){\n",
    "        reverse[(arr.length - 1) - index] =\n",
    "            arr[index];\n",
    "    }\n",
    "    return reverse;\n",
    "}\n",
    "int[] nums = {1,2,3,5,7};\n",
    "println(Arrays.toString(reverse(nums)));"
   ]
  },
  {
   "cell_type": "code",
   "execution_count": 17,
   "id": "af27bae8",
   "metadata": {
    "ExecuteTime": {
     "end_time": "2021-12-10T18:39+0000",
     "start_time": "2021-12-10T18:39:56.265Z"
    }
   },
   "outputs": [
    {
     "name": "stdout",
     "output_type": "stream",
     "text": [
      "[7, 5, 3, 2, 1]\n"
     ]
    }
   ],
   "source": [
    "int[] reverse2(int[] arr){   \n",
    "    int[] reverse = new int[arr.length];\n",
    "    for(int index = 0; index < arr.length; index++){\n",
    "        reverse[index] =\n",
    "            arr[(arr.length - 1) - index];\n",
    "    }\n",
    "    return reverse;\n",
    "}\n",
    "int[] nums = {1,2,3,5,7};\n",
    "println(Arrays.toString(reverse2(nums)));"
   ]
  },
  {
   "cell_type": "code",
   "execution_count": 20,
   "id": "9e4fa62a",
   "metadata": {
    "ExecuteTime": {
     "end_time": "2021-12-10T18:52+0000",
     "start_time": "2021-12-10T18:52:32.087Z"
    }
   },
   "outputs": [
    {
     "name": "stdout",
     "output_type": "stream",
     "text": [
      "[0, 0, 0, 0, 0]\n"
     ]
    }
   ],
   "source": [
    "int[] addArraysReverse(int[] a, int[] b){\n",
    "    int mida = getMinLength(a,b);\n",
    "    int[] resultat = new int[mida];\n",
    "    for(int index = 0; index < mida; index++){\n",
    "        resultat[index] =\n",
    "            a[index] + b[(mida - 1) - index];\n",
    "    }\n",
    "    return resultat;\n",
    "}\n",
    "\n",
    "int[] nums = {1,2,3,5,7};\n",
    "int[] nums2 = {-7,-5,-3,-2,-1};\n",
    "println(Arrays.toString(addArraysReverse(nums,nums2)));"
   ]
  },
  {
   "cell_type": "code",
   "execution_count": null,
   "id": "875d2e87",
   "metadata": {},
   "outputs": [],
   "source": [
    "boolean isPrime(int n){\n",
    "\n",
    "}"
   ]
  }
 ],
 "metadata": {
  "kernelspec": {
   "display_name": "Java",
   "language": "java",
   "name": "java"
  },
  "language_info": {
   "codemirror_mode": "java",
   "file_extension": ".jshell",
   "mimetype": "text/x-java-source",
   "name": "Java",
   "pygments_lexer": "java",
   "version": "11.0.17+8-LTS"
  },
  "nbTranslate": {
   "displayLangs": [
    "*"
   ],
   "hotkey": "alt-t",
   "langInMainMenu": true,
   "sourceLang": "en",
   "targetLang": "ca",
   "useGoogleTranslate": true
  },
  "toc": {
   "base_numbering": 1,
   "nav_menu": {},
   "number_sections": true,
   "sideBar": true,
   "skip_h1_title": false,
   "title_cell": "Table of Contents",
   "title_sidebar": "Contents",
   "toc_cell": false,
   "toc_position": {},
   "toc_section_display": true,
   "toc_window_display": false
  },
  "varInspector": {
   "cols": {
    "lenName": 16,
    "lenType": 16,
    "lenVar": 40
   },
   "kernels_config": {
    "python": {
     "delete_cmd_postfix": "",
     "delete_cmd_prefix": "del ",
     "library": "var_list.py",
     "varRefreshCmd": "print(var_dic_list())"
    },
    "r": {
     "delete_cmd_postfix": ") ",
     "delete_cmd_prefix": "rm(",
     "library": "var_list.r",
     "varRefreshCmd": "cat(var_dic_list()) "
    }
   },
   "types_to_exclude": [
    "module",
    "function",
    "builtin_function_or_method",
    "instance",
    "_Feature"
   ],
   "window_display": false
  }
 },
 "nbformat": 4,
 "nbformat_minor": 5
}

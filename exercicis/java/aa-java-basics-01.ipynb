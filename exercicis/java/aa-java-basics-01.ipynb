{
 "cells": [
  {
   "cell_type": "code",
   "execution_count": 1,
   "id": "e96ab1e5-7f8f-44e8-b609-f3f0b239855e",
   "metadata": {
    "ExecuteTime": {
     "end_time": "2021-11-18T16:01+0000",
     "start_time": "2021-11-18T16:01:25.752Z"
    }
   },
   "outputs": [],
   "source": [
    "String printBinary(String binary, int blockSize, String separator) {\n",
    "        List<String> result = new ArrayList<>();\n",
    "        int index = 0;\n",
    "        while (index < binary.length()) {\n",
    "            result.add(binary.substring(index, Math.min(index + blockSize, binary.length())));\n",
    "            index += blockSize;\n",
    "        }\n",
    "\n",
    "        return result.stream().collect(java.util.stream.Collectors.joining(separator));\n",
    "    }\n",
    "void intToBin(int input){\n",
    "    String result = Integer.toBinaryString(input);\n",
    "    String resultWithPadding = String.format(\"%32s\", result).replaceAll(\" \", \"0\");\n",
    "    System.out.println(printBinary(resultWithPadding, 4, \" \")); \n",
    "}"
   ]
  },
  {
   "cell_type": "markdown",
   "id": "2271266d-85ba-4279-881d-844a541e1b0b",
   "metadata": {},
   "source": [
    "# Type: Exercici Pràctic\n",
    "# Programming Language: Java\n",
    "# Tools: notebook, git\n",
    "# Contents: Variables, tipus de dades primitius i operadors a Java\n",
    "\n",
    "## Exercici: Variables, tipus de dades primitius i operadors a Java\n",
    "\n",
    "En aquest exercici haureu de respondre les següents preguntes, substituint allà on posi //TODO per la vostra resposta."
   ]
  },
  {
   "cell_type": "markdown",
   "id": "96546a37-8d3b-4667-8884-9e9284d6ab65",
   "metadata": {},
   "source": [
    "### Preguntes"
   ]
  },
  {
   "cell_type": "markdown",
   "id": "ab15cd7c-9ecf-4d3c-a396-e41f63f86a87",
   "metadata": {},
   "source": [
    "#### Pregunta 1\n",
    "Declara dues variables de tipus _byte_, **b0** i **b1**, i assigna-lis respectivament els valors 122 i 14:\n",
    "```\n",
    "byte b0 = 122; byte b1 = 14;\n",
    "```\n",
    "\n",
    "Suma les dues variables, sense assignar el resultat a cap variable (jshell l'assignarà automàticament a un variable temporal, que comença per _$_):\n",
    "```\n",
    "b0 + b1\n",
    "```\n",
    "Quin resultat obtenim? Per què? De quin tipus de dada és la variable temporal creada pel notebook?\n"
   ]
  },
  {
   "cell_type": "code",
   "execution_count": 37,
   "id": "0dab2d94-9a7f-4ef9-a721-7e89755c2716",
   "metadata": {
    "ExecuteTime": {
     "end_time": "2021-11-18T16:43+0000",
     "start_time": "2021-11-18T16:43:18.460Z"
    }
   },
   "outputs": [
    {
     "name": "stdout",
     "output_type": "stream",
     "text": [
      "123"
     ]
    }
   ],
   "source": [
    "long b0 = 122; long b1 = 1;//123\n",
    "int r = (int)(b0 + b1);\n",
    "print(r);"
   ]
  },
  {
   "cell_type": "markdown",
   "id": "5543412d-c5e6-46f2-a07e-311cb6b828fd",
   "metadata": {},
   "source": [
    "//TODO"
   ]
  },
  {
   "cell_type": "markdown",
   "id": "ece1fe59-a0ef-493e-815a-6dcbb946180b",
   "metadata": {},
   "source": [
    "#### Pregunta 2\n",
    "\n",
    "Declara una variable de tipus _char_ anomenada c, i assignali el valor 'a':\n",
    "```\n",
    "char c = 'a';\n",
    "```\n",
    "Declara una variable de tipus _int_, anomenada n, i assigna-li el valor de la variable c:\n",
    "```\n",
    "int n = c;\n",
    "```\n",
    "Quin resultat obtens? Per què?\n",
    "\n",
    "//TODO\n",
    "\n",
    "\n",
    "Ara, declara una variable de tipus _short_, anomenada s, i assigna-li el valor de la variable c:\n",
    "```\n",
    "short s = c;\n",
    "```\n",
    "Per què ara el resultat obtingut és diferent que en el cas anterior?\n",
    "\n",
    "//TODO\n"
   ]
  },
  {
   "cell_type": "markdown",
   "id": "901a6155-b6f2-4d62-8176-1bccdb6d9e72",
   "metadata": {},
   "source": [
    "#### Pregunta 3\n",
    "\n",
    "Continuant amb les variables de tipus _char_ i _short_ declarades a l'exercici 2, ara executeu:\n",
    "```\n",
    "short s = (short)c;\n",
    "```\n",
    "Com s'anomena això que estem fent amb la variable c? Quin resultat obtenim ara? Per què (què està passant)?\n",
    "\n",
    "//TODO"
   ]
  },
  {
   "cell_type": "markdown",
   "id": "93de4305-d0f2-46fb-a608-600fbb8f9c47",
   "metadata": {},
   "source": [
    "#### Pregunta 4\n",
    "\n",
    "Executa el següent codi en una cel·la del notebook:\n",
    "```\n",
    "short s = (short)32000;\n",
    "```\n",
    "\n",
    "```\n",
    "short s = (short)35000;\n",
    "```\n",
    "\n",
    "Quins resultats obtens? Per què?\n",
    "\n",
    "//TODO\n",
    "\n",
    "La meva resposta és que......"
   ]
  },
  {
   "cell_type": "code",
   "execution_count": 8,
   "id": "7083da4d",
   "metadata": {
    "ExecuteTime": {
     "end_time": "2021-11-18T16:07+0000",
     "start_time": "2021-11-18T16:07:27.372Z"
    }
   },
   "outputs": [
    {
     "name": "stdout",
     "output_type": "stream",
     "text": [
      "32000\n",
      "-30536"
     ]
    }
   ],
   "source": [
    "short s = (short)32000;\n",
    "println(s);\n",
    "\n",
    "short s = (short)35000;\n",
    "\n",
    "print(s);"
   ]
  },
  {
   "cell_type": "markdown",
   "id": "8d56b74a-0d1b-45fe-a542-d4fd59249b58",
   "metadata": {},
   "source": [
    "#### Pregunta 5\n",
    "\n",
    "Executa el següent codi amb el jshell:\n",
    "```\n",
    "var v = 5.0;\n",
    "```\n",
    "\n",
    "```\n",
    "var v0 = 5;\n",
    "```\n",
    "\n",
    "De quin tipus de dada són les variables v i v0?\n",
    "\n",
    "//TODO\n",
    "\n",
    "Ara, executa:\n",
    "```\n",
    "var v1 = v + v0;\n",
    "```\n",
    "\n",
    "De quin tipus de dada és la variable v1? Per què (què està passant en fer-se la suma)?\n",
    "\n",
    "//TODO"
   ]
  },
  {
   "cell_type": "code",
   "execution_count": 27,
   "id": "9582e0ec",
   "metadata": {
    "ExecuteTime": {
     "end_time": "2021-11-18T16:29+0000",
     "start_time": "2021-11-18T16:29:44.296Z"
    }
   },
   "outputs": [
    {
     "name": "stdout",
     "output_type": "stream",
     "text": [
      "65\n",
      "66\n",
      "A\n",
      "B\n"
     ]
    }
   ],
   "source": [
    "var b = 65;\n",
    "println(b);\n",
    "b = 'B';\n",
    "println(b);\n",
    "\n",
    "var a = 'A';\n",
    "println(a);\n",
    "a = 66;\n",
    "println(a);"
   ]
  },
  {
   "cell_type": "markdown",
   "id": "0c3e671d-56ef-4d30-bdef-48a3833e849a",
   "metadata": {},
   "source": [
    "#### Pregunta 6\n",
    "\n",
    "**Operadors bitwise**\n",
    "\n",
    "Executeu el següent codi amb jshell:\n",
    "\n",
    "```\n",
    "4 & 4;\n",
    "4 | 4;\n",
    "4 ^ 4;\n",
    "~4;\n",
    "```\n",
    "\n",
    "Què retorna en cada cas? Per què?\n",
    "\n",
    "//TODO"
   ]
  },
  {
   "cell_type": "markdown",
   "id": "cb14bac7-3b87-4922-babf-2b52ffc35b3a",
   "metadata": {},
   "source": [
    "**Hint**: Per ajudar a visualitzar el què està passant, podeu usar la instrucció _intToBin()_. Exemple:\n",
    "```\n",
    "intToBin(4);\n",
    "intToBin(4 & 4);\n",
    "```"
   ]
  },
  {
   "cell_type": "code",
   "execution_count": 38,
   "id": "1add1578-ebf3-4fdc-af0e-ee46dd744b8f",
   "metadata": {},
   "outputs": [
    {
     "name": "stdout",
     "output_type": "stream",
     "text": [
      "0000 0000 0000 0000 0000 0000 0000 1100\n",
      "0000 0000 0000 0000 0000 0000 0000 0100\n",
      "0000 0000 0000 0000 0000 0000 0000 1100\n",
      "0000 0000 0000 0000 0000 0000 0000 0100\n",
      "true\n",
      "false\n"
     ]
    }
   ],
   "source": [
    "intToBin(12);\n",
    "intToBin(4);\n",
    "intToBin(4 | 12);\n",
    "intToBin(4 & 12);\n",
    "boolean bol1 = true;\n",
    "boolean bol2 = false;\n",
    "println(bol1 || bol2);\n",
    "println(bol1 && bol2);"
   ]
  },
  {
   "cell_type": "markdown",
   "id": "cfe95122-4142-42fe-9b1d-c7ac25e7ed48",
   "metadata": {},
   "source": [
    "#### Pregunta 7\n",
    "\n",
    "**Operadors shift**\n",
    "\n",
    "Executeu el seguent codi amb jshell:\n",
    "\n",
    "```\n",
    "4<<2\n",
    "4<<28\n",
    "4<<29\n",
    "4<<30\n",
    "4<<31\n",
    "```\n",
    "\n",
    "Què retorna en cada cas? Per què?\n",
    "\n",
    "//TODO"
   ]
  },
  {
   "cell_type": "markdown",
   "id": "e2fd5db1-1784-4459-8e75-d4c427fbe792",
   "metadata": {},
   "source": [
    "**Hint**: Per ajudar a visualitzar el què està passant, podeu usar la instrucció _intToBin()_. Exemple:\n",
    "```\n",
    "intToBin(4);\n",
    "intToBin(4 << 2);\n",
    "```"
   ]
  },
  {
   "cell_type": "markdown",
   "id": "cffa2488-366b-4a33-ae20-b56744d51340",
   "metadata": {},
   "source": [
    "#### Pregunta 8\n",
    "\n",
    "Declareu dues variables de tipus _char_ de la següent manera:\n",
    "```\n",
    "char c = 'a', c1 = 1;\n",
    "```\n",
    "\n",
    "L'objectiu d'aquest exercici és assignar el valor 'b' en una tercera variable de tipus _char_, però sense usar el literal 'b', sinó fent la suma de les variables c i c1, és a dir:\n",
    "```\n",
    "char c2 = c + c1;\n",
    "```\n",
    "\n",
    "Què està passant? Com ho podem solucionar per tal d'aconseguir l'objectiu d'aquest exercici?\n",
    "\n",
    "//TODO"
   ]
  },
  {
   "cell_type": "markdown",
   "id": "f1646053-10ea-4134-b461-5424887618e8",
   "metadata": {},
   "source": [
    "#### Pregunta 9\n",
    "\n",
    "Executa la següent expressió i assigna-la a una variable h:\n",
    "```\n",
    "var h = 4 * 4f + (4.0 + 4);\n",
    "```\n",
    "\n",
    "Ara, assigna el valor guardat a la variable h, a una altra variable de tipus _float_:\n",
    "```\n",
    "float f = h;\n",
    "```\n",
    "\n",
    "Què obtenim? Per què?\n",
    "\n",
    "//TODO\n",
    "\n",
    "Ara escriu el canvi que cal fer en l'expressió inicial (_4 * 4f + (4.0 + 4)_) per tal que l'assignació del valor d'h a f sigui reeixit.\n",
    "\n",
    "//TODO"
   ]
  },
  {
   "cell_type": "markdown",
   "id": "79e2a06f-3170-4ee4-81db-ed93d5278f2d",
   "metadata": {},
   "source": [
    "#### Pregunta 10\n",
    "\n",
    "A partir de les següents variables i assignacions:\n",
    "```\n",
    "byte b0 = 4, b1 = -4, b2 = 12;\n",
    "```\n",
    "\n",
    "Executa el següent codi:\n",
    "```\n",
    "boolean bol1 = b0 == b2 / 3;\n",
    "boolean bol2 = b0 + b1;\n",
    "boolean bol3 = b0 + b1 > b2;\n",
    "```\n",
    "\n",
    "Explica el resultats obtinguts en cada cas:\n",
    "\n",
    "//TODO\n"
   ]
  },
  {
   "cell_type": "code",
   "execution_count": null,
   "id": "40c4f045-b151-4bdc-9d8f-1278ceac60de",
   "metadata": {},
   "outputs": [],
   "source": []
  }
 ],
 "metadata": {
  "kernelspec": {
   "display_name": "Java",
   "language": "java",
   "name": "java"
  },
  "language_info": {
   "codemirror_mode": "java",
   "file_extension": ".jshell",
   "mimetype": "text/x-java-source",
   "name": "Java",
   "pygments_lexer": "java",
   "version": "11.0.17+8-LTS"
  },
  "nbTranslate": {
   "displayLangs": [
    "*"
   ],
   "hotkey": "alt-t",
   "langInMainMenu": true,
   "sourceLang": "en",
   "targetLang": "ca",
   "useGoogleTranslate": true
  },
  "toc": {
   "base_numbering": 1,
   "nav_menu": {},
   "number_sections": true,
   "sideBar": true,
   "skip_h1_title": false,
   "title_cell": "Table of Contents",
   "title_sidebar": "Contents",
   "toc_cell": false,
   "toc_position": {},
   "toc_section_display": true,
   "toc_window_display": false
  },
  "varInspector": {
   "cols": {
    "lenName": 16,
    "lenType": 16,
    "lenVar": 40
   },
   "kernels_config": {
    "python": {
     "delete_cmd_postfix": "",
     "delete_cmd_prefix": "del ",
     "library": "var_list.py",
     "varRefreshCmd": "print(var_dic_list())"
    },
    "r": {
     "delete_cmd_postfix": ") ",
     "delete_cmd_prefix": "rm(",
     "library": "var_list.r",
     "varRefreshCmd": "cat(var_dic_list()) "
    }
   },
   "types_to_exclude": [
    "module",
    "function",
    "builtin_function_or_method",
    "instance",
    "_Feature"
   ],
   "window_display": false
  }
 },
 "nbformat": 4,
 "nbformat_minor": 5
}

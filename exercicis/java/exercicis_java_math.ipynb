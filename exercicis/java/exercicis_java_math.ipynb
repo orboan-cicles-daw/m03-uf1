{
 "cells": [
  {
   "cell_type": "markdown",
   "id": "053eafa7-ff93-4e4c-8afd-53ad5f68a2f7",
   "metadata": {},
   "source": [
    "# Type: Exercici Pràctic\n",
    "# Programming Language: Java\n",
    "# Tools: notebook, git\n",
    "# Contents: Introducció a la programació. Java Math.\n",
    "\n",
    "## Exercicis matemàtics simples amb Java\n",
    "\n",
    "En aquests exercicis haureu de respondre les següents preguntes, substituint allà on posi //TODO per la vostra resposta."
   ]
  },
  {
   "cell_type": "markdown",
   "id": "e5f5d0f7-d99e-4b4a-adbb-2ac3e55b81fc",
   "metadata": {},
   "source": [
    "### Exercici 1\n",
    "\n",
    "Donats dos números decimals, fes un snippet que imprimeixi per pantalla la seva mitjana aritmètica."
   ]
  },
  {
   "cell_type": "code",
   "execution_count": 1,
   "id": "ee5a4306-64d3-43e7-a1c3-25accb9a1559",
   "metadata": {},
   "outputs": [],
   "source": [
    "double nota1 = 4.8;\n",
    "double nota2 = 6.5;\n",
    "\n",
    "//TODO"
   ]
  },
  {
   "cell_type": "markdown",
   "id": "52946b4a-9d69-4b86-81c1-e62e059306da",
   "metadata": {},
   "source": [
    "### Exercici 2\n",
    "\n",
    "Donat un número enter N, fes un snippet que imprimeixi per pantalla tots els números primers entre -N i N (inclosos)."
   ]
  },
  {
   "cell_type": "code",
   "execution_count": 2,
   "id": "56401b7b-ac62-4e83-bd7d-7a472b025a76",
   "metadata": {},
   "outputs": [],
   "source": [
    "int N = 20;\n",
    "\n",
    "//TODO"
   ]
  },
  {
   "cell_type": "markdown",
   "id": "bcab3088-07eb-4182-9bbf-acc7586c0871",
   "metadata": {},
   "source": [
    "### Exercici 3\n",
    "\n",
    "Donat un número enter UPPER, programa un snippet que imprimeixi per pantallla tots els números entre 0 i UPPER que pertanyen a la seqüència de Fibonacci.\n",
    "\n",
    "> La seqüència de Fibonacci és un conjunt de nombres enters (els nombres de Fibonacci) que comença amb un zero, seguit d'un 1, després d'un altre 1 i després d'una sèrie de nombres que creixen constantment. La seqüència segueix la regla que cada nombre és igual a la suma dels dos nombres anteriors.\n"
   ]
  },
  {
   "cell_type": "code",
   "execution_count": 3,
   "id": "6d22fb1c-7647-46e7-85b1-6eeda6970aeb",
   "metadata": {},
   "outputs": [],
   "source": [
    "int UPPER = 100;\n",
    "\n",
    "//TODO"
   ]
  },
  {
   "cell_type": "markdown",
   "id": "a17399cc-4fda-41a3-8a35-f653ded7adf3",
   "metadata": {},
   "source": [
    "### Exercici 4\n",
    "\n",
    "Escriu un snippet que inverteixi els dígits d'un nombre enter.\n",
    "\n",
    "Per exemple, donat un nombre enter 123, imprimirà 321."
   ]
  },
  {
   "cell_type": "code",
   "execution_count": 4,
   "id": "84ad2234-403f-45c6-ac3a-f23dc44ca55f",
   "metadata": {},
   "outputs": [],
   "source": [
    "int nombre = 123;\n",
    "\n",
    "//TODO"
   ]
  },
  {
   "cell_type": "markdown",
   "id": "37f20b51-52bc-4e57-abca-0f878de7a87c",
   "metadata": {},
   "source": [
    "### Exercici 5\n",
    "\n",
    "Escriu un snippet que imprimeixi per pantalla el resultat de multiplicar dos números enters. **No es pot utilitzar l'operador ``*``**.\n"
   ]
  },
  {
   "cell_type": "code",
   "execution_count": 5,
   "id": "e849bd52-d527-412b-8114-5169214adf80",
   "metadata": {},
   "outputs": [],
   "source": [
    "int a = 5, b = 11;\n",
    "\n",
    "//TODO"
   ]
  },
  {
   "cell_type": "markdown",
   "id": "9dc09a80-5382-4289-bcfc-718815aa8f5f",
   "metadata": {},
   "source": [
    "### Exercici 6\n",
    "\n",
    "Escriu un snippet que, donat un nombre enter positiu, imprimeixi ``true`` si és un número _palíndrom_ o ``false`` si no ho és.\n",
    "\n",
    "Per exemple:\n",
    "```\n",
    "8 -> true\n",
    "121 -> true\n",
    "123 -> false\n",
    "99 -> true\n",
    "84948 -> true\n",
    "45 -> false\n",
    "100 -> false\n",
    "```"
   ]
  },
  {
   "cell_type": "code",
   "execution_count": 6,
   "id": "ab0cec46-2966-4d45-be35-1867340b1a38",
   "metadata": {},
   "outputs": [],
   "source": [
    "int pal = 12321;\n",
    "\n",
    "//TODO"
   ]
  },
  {
   "cell_type": "markdown",
   "id": "d0d47b4d-39ba-4082-931f-bb22799b9865",
   "metadata": {},
   "source": [
    "### Exercici 7\n",
    "\n",
    "Donat un nombre enter N, escriu un snippet que imprimeixi ``true`` si aquest nombre pertany a la sèrie de Fibonacci, o ``false `` si no hi pertany."
   ]
  },
  {
   "cell_type": "code",
   "execution_count": 7,
   "id": "4ff1e5f9-1413-4c26-b872-129e184cc1f0",
   "metadata": {},
   "outputs": [],
   "source": [
    "int N = 17;\n",
    "\n",
    "//TODO"
   ]
  },
  {
   "cell_type": "markdown",
   "id": "643172c0-0030-4bca-92af-1ba16d9016d1",
   "metadata": {},
   "source": [
    "### Exercici 8\n",
    "\n",
    "Escriu un snippet que, donat el radi R d'una esfera, imprimeixi el seu volum i la seva àrea. [Esfera: àrea i volum](https://www.sangakoo.com/ca/temes/l-esfera-area-i-volum)\n",
    "\n",
    "_Nota: podeu usar el número pi que hi ha a Java amb ``Math.PI``_"
   ]
  },
  {
   "cell_type": "code",
   "execution_count": 8,
   "id": "e7524b06-0ab8-4076-aed7-802c670a2092",
   "metadata": {},
   "outputs": [],
   "source": [
    "double radi = 6.5;\n",
    "\n",
    "//TODO"
   ]
  },
  {
   "cell_type": "markdown",
   "id": "ddf7fd6d-e837-410c-b89e-bc7bc1ddecc9",
   "metadata": {},
   "source": [
    "### Exercici 9\n",
    "\n",
    "Escriu un snippet, que donat el radi R i l'alçada H d'un cilindre, imprimeixi el seu volum i la seva àrea total.  [Cilindre: àrea i volum](https://www.sangakoo.com/ca/temes/el-cilindre-area-i-volum)\n",
    "\n",
    "_Nota: podeu usar el número pi que hi ha a Java amb ``Math.PI``_"
   ]
  },
  {
   "cell_type": "code",
   "execution_count": 9,
   "id": "2fc00404-2580-4254-b7bf-e1a7f35ac78b",
   "metadata": {},
   "outputs": [],
   "source": [
    "double radi = 3.8;\n",
    "double alcada = 7.2;\n",
    "\n",
    "//TODO"
   ]
  },
  {
   "cell_type": "markdown",
   "id": "5f36dd88-eb58-4988-a070-754b1fc8e488",
   "metadata": {},
   "source": [
    "### Exercici 10\n",
    "\n",
    "Donada una esfera de radi R i un cilindre amb un radi R **igual al de l'esfera**, escriu un programa que imprimeixi per pantalla el valor de l'altura H del cilindre a partir del qual el volum del cilindre és més gran que el volum de l'esfera.\n",
    "\n",
    "Has de començar amb H = 0.1 i anar pujant de 0.1 en 0.1."
   ]
  },
  {
   "cell_type": "code",
   "execution_count": 10,
   "id": "82cd95cf-be83-443b-bfd5-d406bbe4006b",
   "metadata": {},
   "outputs": [],
   "source": [
    "double R = 5.0;\n",
    "double H = 0.1; //alçada inicial\n",
    "\n",
    "//TODO"
   ]
  },
  {
   "cell_type": "code",
   "execution_count": null,
   "id": "35fb1075-f814-4931-8b5e-d745260669c4",
   "metadata": {},
   "outputs": [],
   "source": []
  }
 ],
 "metadata": {
  "kernelspec": {
   "display_name": "Java",
   "language": "java",
   "name": "java"
  },
  "language_info": {
   "codemirror_mode": "java",
   "file_extension": ".jshell",
   "mimetype": "text/x-java-source",
   "name": "Java",
   "pygments_lexer": "java",
   "version": "17.0.6+10-LTS"
  }
 },
 "nbformat": 4,
 "nbformat_minor": 5
}

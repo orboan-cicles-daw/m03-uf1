{
 "cells": [
  {
   "cell_type": "markdown",
   "id": "92cd2e6a-7985-4449-9c84-e7a940cde67f",
   "metadata": {},
   "source": [
    "# Exemples interessants"
   ]
  },
  {
   "cell_type": "code",
   "execution_count": 1,
   "id": "b805943d-0197-4b77-bcd0-8a0e00a7c1f5",
   "metadata": {},
   "outputs": [
    {
     "name": "stdout",
     "output_type": "stream",
     "text": [
      "I scored 10 points\n"
     ]
    }
   ],
   "source": [
    "int point = 10;\n",
    "String s = (point == 1 ? \"point\" : \"points\");\n",
    "System.out.println(\"I scored \" +point +\" \" +s );"
   ]
  },
  {
   "cell_type": "code",
   "execution_count": 2,
   "id": "369f32cf-4f18-46a8-9a02-052802f7d538",
   "metadata": {},
   "outputs": [
    {
     "name": "stdout",
     "output_type": "stream",
     "text": [
      "Below Average Performer\n"
     ]
    }
   ],
   "source": [
    "   char grade ='E';\n",
    "   if (grade == 'A') {\n",
    "      System.out.println(\"Excellent performer\");\n",
    "   }else if (grade == 'B') {\n",
    "      System.out.println(\"Good Performer\");\n",
    "   }else if (grade == 'C') {\n",
    "   System.out.println(\"Average Performer\");\n",
    "   }else {\n",
    "      System.out.println(\"Below Average Performer\");\n",
    "   }"
   ]
  },
  {
   "cell_type": "code",
   "execution_count": 3,
   "id": "4031c338-f3d5-47c8-93e9-5f2df585f68a",
   "metadata": {},
   "outputs": [
    {
     "name": "stdout",
     "output_type": "stream",
     "text": [
      "Congratulations!\n",
      "Good work\n",
      "Average\n",
      "Barely passing\n",
      "Failed\n"
     ]
    }
   ],
   "source": [
    "char grade = 'A';\n",
    "switch (grade) {\n",
    "   case 'A':\n",
    "      System.out.println(\"Congratulations!\");    case 'B':\n",
    "      System.out.println(\"Good work\");\n",
    "   case 'C':\n",
    "      System.out.println(\"Average\");\n",
    "   case 'D':\n",
    "      System.out.println(\"Barely passing\");\n",
    "   case 'F':\n",
    "      System.out.println(\"Failed\");\n",
    "}"
   ]
  },
  {
   "cell_type": "code",
   "execution_count": 13,
   "id": "556952de-10d6-494c-9291-c812bec3f95d",
   "metadata": {},
   "outputs": [
    {
     "name": "stdout",
     "output_type": "stream",
     "text": [
      "Consonants\n"
     ]
    }
   ],
   "source": [
    "   char ch ='c';\n",
    "   switch(ch) {\n",
    "     case 'a':\n",
    "     case 'e':\n",
    "     case 'i':\n",
    "     case 'o':\n",
    "     case 'u':\n",
    "       System.out.println(\"Vowels\");\n",
    "       break;\n",
    "     default:\n",
    "       System.out.println(\"Consonants\");\n",
    "   }"
   ]
  },
  {
   "cell_type": "code",
   "execution_count": 5,
   "id": "59403630-8d3a-4c19-b808-3466cdc920af",
   "metadata": {},
   "outputs": [
    {
     "name": "stdout",
     "output_type": "stream",
     "text": [
      "true\n"
     ]
    }
   ],
   "source": [
    "   String name = \"Java\";\n",
    "   String language = \"Programming\";\n",
    "   String fullName = name + language;\n",
    "   boolean test = fullName.equals(name + language);\n",
    "   System.out.println(test);"
   ]
  },
  {
   "cell_type": "code",
   "execution_count": 6,
   "id": "2d8add6b-8974-4862-b294-7090be5bac85",
   "metadata": {},
   "outputs": [
    {
     "name": "stdout",
     "output_type": "stream",
     "text": [
      "1\n",
      "Array index out of bounds\n"
     ]
    }
   ],
   "source": [
    "int[] array = {10, 20, 30};\n",
    "int b = 0;\n",
    "try{\n",
    "   System.out.println(\"1\");\n",
    "   int c = (array[3] / b);\n",
    "   System.out.println(\"2\");\n",
    "}\n",
    "catch(ArithmeticException ex){\n",
    "   System.out.println(\"Arithmetic Exception\");\n",
    "}\n",
    "catch(ArrayIndexOutOfBoundsException ex){\n",
    "   System.out.println(\"Array index out of bounds\");\n",
    "}"
   ]
  },
  {
   "cell_type": "code",
   "execution_count": 7,
   "id": "031bbd23-72ef-4ebe-8c30-41e2d2eeb992",
   "metadata": {},
   "outputs": [
    {
     "ename": "CompilationException",
     "evalue": "",
     "output_type": "error",
     "traceback": [
      "\u001b[1m\u001b[30m|   \u001b[1m\u001b[30mint areaOfCircle = \u001b[0m\u001b[1m\u001b[30m\u001b[41mMath.PI * radiusOfCircle * radiusOfCircle\u001b[0m\u001b[1m\u001b[30m;\u001b[0m",
      "\u001b[1m\u001b[31mincompatible types: possible lossy conversion from double to int\u001b[0m",
      ""
     ]
    }
   ],
   "source": [
    "int radiusOfCircle = 10;\n",
    "int areaOfCircle = Math.PI * radiusOfCircle * radiusOfCircle;"
   ]
  },
  {
   "cell_type": "code",
   "execution_count": 8,
   "id": "b72f1a93-22b2-4119-883e-21e3b0fd44d7",
   "metadata": {},
   "outputs": [
    {
     "name": "stdout",
     "output_type": "stream",
     "text": [
      "01234"
     ]
    }
   ],
   "source": [
    "int[] arr = new int[5];\n",
    "for(int i=0; i<arr.length; i++){\n",
    "    arr[i] = i;\n",
    "}\n",
    "for(int i=0; i<arr.length; i++) {\n",
    "    System.out.print(arr[i]);\n",
    "}"
   ]
  },
  {
   "cell_type": "code",
   "execution_count": 9,
   "id": "9e3d6d04-14e1-4c88-a8f4-44b10bf86c24",
   "metadata": {},
   "outputs": [
    {
     "name": "stdout",
     "output_type": "stream",
     "text": [
      "10\n"
     ]
    }
   ],
   "source": [
    "int[] arr = new int[1];\n",
    "arr[0] = 10;\n",
    "System.out.println(arr[0]);"
   ]
  },
  {
   "cell_type": "code",
   "execution_count": 10,
   "id": "ef056f47-a442-4d8a-b943-4bfb1263ae7a",
   "metadata": {},
   "outputs": [
    {
     "name": "stdout",
     "output_type": "stream",
     "text": [
      "hai hai "
     ]
    }
   ],
   "source": [
    "int[] arr = new int[2];\n",
    "for(int i=0; i < arr.length; i++){\n",
    "   System.out.print(\"hai \");\n",
    "}"
   ]
  },
  {
   "cell_type": "code",
   "execution_count": 11,
   "id": "50980c65-18b2-4cb9-a986-3153c974cde2",
   "metadata": {},
   "outputs": [
    {
     "name": "stdout",
     "output_type": "stream",
     "text": [
      "10\n"
     ]
    }
   ],
   "source": [
    "int[] arr = new int[1];\n",
    "arr[0] = 10;\n",
    "System.out.println(arr[0]);"
   ]
  },
  {
   "cell_type": "code",
   "execution_count": 12,
   "id": "12ce7ee0-3cfa-43f7-9397-df00d68b17d8",
   "metadata": {},
   "outputs": [
    {
     "name": "stdout",
     "output_type": "stream",
     "text": [
      "hai hai "
     ]
    }
   ],
   "source": [
    "int[] arr = new int[2];\n",
    "for(int i=0; i < arr.length; i++){\n",
    "   System.out.print(\"hai \");\n",
    "}"
   ]
  },
  {
   "cell_type": "code",
   "execution_count": 14,
   "id": "32123d78-69de-45f0-b168-5925c705cd7f",
   "metadata": {},
   "outputs": [
    {
     "name": "stdout",
     "output_type": "stream",
     "text": [
      "Bob is 43 "
     ]
    }
   ],
   "source": [
    "   int age = 43;\n",
    "   if (age == 43){\n",
    "     System.out.print(\"Bob is 43 \");\n",
    "   }\n",
    "   if (age == 50){\n",
    "     System.out.print(\"Bob is 50 \");\n",
    "   }"
   ]
  },
  {
   "cell_type": "code",
   "execution_count": 15,
   "id": "3911e840-42f8-4b66-88ec-9397c324c7b8",
   "metadata": {},
   "outputs": [
    {
     "name": "stdout",
     "output_type": "stream",
     "text": [
      "var1:0, var2:0\n",
      "var1:0, var2:1\n",
      "var1:1, var2:0\n",
      "var1:1, var2:1\n"
     ]
    }
   ],
   "source": [
    "  for (int var1 = 0; var1 < 2; var1++) {\n",
    "   for (int var2 = 0; var2 < 2; var2++) {\n",
    "    if (var2 == 2) {\n",
    "     continue;\n",
    "    }\n",
    "   System.out.println(\"var1:\" + var1 + \", var2:\" + var2);\n",
    "   }\n",
    "  }"
   ]
  },
  {
   "cell_type": "code",
   "execution_count": 16,
   "id": "72ef9794-df44-48fa-b6a2-9747303f635e",
   "metadata": {},
   "outputs": [
    {
     "ename": "CompilationException",
     "evalue": "",
     "output_type": "error",
     "traceback": [
      "\u001b[1m\u001b[30m|   \u001b[1m\u001b[30m     System.out.print(num + \"\"\u001b[0m\u001b[1m\u001b[30m\u001b[41m\u001b[0m\u001b[1m\u001b[30m \"\");\u001b[0m",
      "\u001b[1m\u001b[31m')' expected\u001b[0m",
      ""
     ]
    }
   ],
   "source": [
    "   int num = 1;\n",
    "   while (num >= 200){\n",
    "     System.out.print(num + \"\" \"\");\n",
    "     num = num * 5;\n",
    "   }"
   ]
  },
  {
   "cell_type": "code",
   "execution_count": 17,
   "id": "a587978e-2fd4-468a-8f42-618a8974a232",
   "metadata": {},
   "outputs": [
    {
     "name": "stdout",
     "output_type": "stream",
     "text": [
      "1\n",
      "Array index out of bounds\n"
     ]
    }
   ],
   "source": [
    "int[] array = {10, 20, 30};\n",
    "int b = 0;\n",
    "try{\n",
    "   System.out.println(\"1\");\n",
    "   int c = (array[3] / b);\n",
    "   System.out.println(\"2\");\n",
    "}\n",
    "catch(ArithmeticException ex){\n",
    "   System.out.println(\"Arithmetic Exception\");\n",
    "}\n",
    "catch(ArrayIndexOutOfBoundsException ex){\n",
    "   System.out.println(\"Array index out of bounds\");\n",
    "}"
   ]
  },
  {
   "cell_type": "code",
   "execution_count": null,
   "id": "3759fb9a-cf56-4370-b24f-6b7cde2e2bff",
   "metadata": {},
   "outputs": [],
   "source": []
  }
 ],
 "metadata": {
  "kernelspec": {
   "display_name": "Java",
   "language": "java",
   "name": "java"
  },
  "language_info": {
   "codemirror_mode": "java",
   "file_extension": ".jshell",
   "mimetype": "text/x-java-source",
   "name": "Java",
   "pygments_lexer": "java",
   "version": "11.0.17+8-LTS"
  }
 },
 "nbformat": 4,
 "nbformat_minor": 5
}

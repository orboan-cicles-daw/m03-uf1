{
 "cells": [
  {
   "cell_type": "markdown",
   "id": "6ecf0c54",
   "metadata": {},
   "source": [
    "# Per pensar una miqueta"
   ]
  },
  {
   "cell_type": "markdown",
   "id": "e9c605bc",
   "metadata": {},
   "source": [
    "## Aigües i tasses\n",
    "Com intercanviaries diferents tipus d'aigua entre dues tasses? No està permès barrejar aigues."
   ]
  },
  {
   "cell_type": "markdown",
   "id": "7a1137a1",
   "metadata": {},
   "source": [
    "**Resposta**: \n",
    "\n",
    "//TODO\n",
    "\n"
   ]
  },
  {
   "cell_type": "markdown",
   "id": "3006256a",
   "metadata": {},
   "source": [
    "## Cerca d'un enter\n",
    "Penso en un enter entre 1 i 100. Em pots fer preguntes per tal d'esbrinar de quin enter es tracta, però de manera que:\n",
    "\n",
    "* Només puc contestar-te 'sí' o 'no'\n",
    "* Has d'intentar que el nombre de preguntes que fas siguin el mínim possible\n",
    "* No pots preguntar directament si un número és el que cerques"
   ]
  },
  {
   "cell_type": "markdown",
   "id": "73e67949",
   "metadata": {},
   "source": [
    "**Resposta**:\n",
    "\n",
    "//TODO"
   ]
  },
  {
   "cell_type": "markdown",
   "id": "a55f9a44",
   "metadata": {
    "ExecuteTime": {
     "end_time": "2021-08-04T15:25+0000",
     "start_time": "2021-08-04T15:25:32.805Z"
    }
   },
   "source": [
    "## Pilotes de ping-pong\n",
    "Hi ha 27 pilotes de ping-pong, totes iguals en forma, color, mida i pes, \n",
    "excepte una d'elles, que pesa lleugerament una mica menys.\n",
    "\n",
    "Usant una balança, com pots trobar **ràpidament** la pilota que és diferent?"
   ]
  },
  {
   "cell_type": "markdown",
   "id": "5e0ced10",
   "metadata": {},
   "source": [
    "**Resposta**:\n",
    "\n",
    "//TODO"
   ]
  },
  {
   "cell_type": "markdown",
   "id": "532eabb8",
   "metadata": {},
   "source": [
    "## Camins\n",
    "Des de Vilada es poden agafar cinc camins diferents per a anar caminant fins el poble veí de Borredà, camins A, B, C, D i E. No sabem quina és la llargada de cada camí.\n",
    "\n",
    "Com podem ordenar els cinc camins segons la seva distància, començant pel camí més curt i acabant pel camí més llarg? Ho has de fer mesurant la distància en passes. \n",
    "\n",
    "Fa falta caminar tots els camins completament?"
   ]
  },
  {
   "cell_type": "markdown",
   "id": "27f03156",
   "metadata": {},
   "source": [
    "**Resposta**:\n",
    "\n",
    "//TODO"
   ]
  },
  {
   "cell_type": "code",
   "execution_count": null,
   "id": "590de1a5",
   "metadata": {},
   "outputs": [],
   "source": []
  }
 ],
 "metadata": {
  "kernelspec": {
   "display_name": "Java 11",
   "language": "java",
   "name": "java"
  },
  "language_info": {
   "codemirror_mode": "java",
   "file_extension": ".jshell",
   "mimetype": "text/x-java-source",
   "name": "Java",
   "pygments_lexer": "java",
   "version": "11.0.11+9-Ubuntu-0ubuntu2.20.04"
  },
  "nbTranslate": {
   "displayLangs": [
    "*"
   ],
   "hotkey": "alt-t",
   "langInMainMenu": true,
   "sourceLang": "en",
   "targetLang": "ca",
   "useGoogleTranslate": true
  },
  "toc": {
   "base_numbering": 1,
   "nav_menu": {},
   "number_sections": true,
   "sideBar": true,
   "skip_h1_title": false,
   "title_cell": "Table of Contents",
   "title_sidebar": "Contents",
   "toc_cell": false,
   "toc_position": {},
   "toc_section_display": true,
   "toc_window_display": false
  },
  "varInspector": {
   "cols": {
    "lenName": 16,
    "lenType": 16,
    "lenVar": 40
   },
   "kernels_config": {
    "python": {
     "delete_cmd_postfix": "",
     "delete_cmd_prefix": "del ",
     "library": "var_list.py",
     "varRefreshCmd": "print(var_dic_list())"
    },
    "r": {
     "delete_cmd_postfix": ") ",
     "delete_cmd_prefix": "rm(",
     "library": "var_list.r",
     "varRefreshCmd": "cat(var_dic_list()) "
    }
   },
   "types_to_exclude": [
    "module",
    "function",
    "builtin_function_or_method",
    "instance",
    "_Feature"
   ],
   "window_display": false
  }
 },
 "nbformat": 4,
 "nbformat_minor": 5
}

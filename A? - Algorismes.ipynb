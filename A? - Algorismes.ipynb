{
 "cells": [
  {
   "cell_type": "code",
   "execution_count": 1,
   "id": "00dedeb3-e53e-49b8-862a-286b9440a81f",
   "metadata": {
    "ExecuteTime": {
     "end_time": "2021-12-03T17:39+0000",
     "start_time": "2021-12-03T17:39:40.209Z"
    }
   },
   "outputs": [],
   "source": [
    "import java.time.Instant;\n",
    "import java.time.Duration;\n",
    "int max = 1000000;"
   ]
  },
  {
   "cell_type": "code",
   "execution_count": 2,
   "id": "0ca34872-f38e-4c10-bcb1-3cdf4abd556a",
   "metadata": {
    "ExecuteTime": {
     "end_time": "2021-12-03T17:35+0000",
     "start_time": "2021-12-03T17:35:20.177Z"
    }
   },
   "outputs": [],
   "source": [
    "int getRandomNumber(int min, int max) {\n",
    "    Random random = new Random();\n",
    "    return random.nextInt(max - min) + min;\n",
    "}"
   ]
  },
  {
   "cell_type": "code",
   "execution_count": 3,
   "id": "fca1300b-f5fe-4f30-a3b3-7102b636a7c2",
   "metadata": {
    "ExecuteTime": {
     "end_time": "2021-12-03T17:35+0000",
     "start_time": "2021-12-03T17:35:20.846Z"
    }
   },
   "outputs": [],
   "source": [
    "int[] createRandomIntArray(int max){\n",
    "    int[] numbers = new int[max];\n",
    "    for(int i = 0; i < max; i++){\n",
    "        numbers[i] = getRandomNumber(0,max);\n",
    "    }\n",
    "    return numbers;\n",
    "}"
   ]
  },
  {
   "cell_type": "code",
   "execution_count": 4,
   "id": "8142d820-ec2f-4e07-a1e3-1cf0ee7714ec",
   "metadata": {},
   "outputs": [],
   "source": [
    "//timeElapsed is in miliseconds\n",
    "void printTimeElapsed(long timeElapsed){\n",
    "    long milis = timeElapsed % 1000;\n",
    "    long totalSeconds = timeElapsed / 1000;\n",
    "    long secs = totalSeconds % 60;\n",
    "    long mins = totalSeconds / 60;    \n",
    "    System.out.printf(\"%d minutes, %d seconds, %d milis\", mins, secs, milis);\n",
    "}"
   ]
  },
  {
   "cell_type": "markdown",
   "id": "33f03b15-8a5f-4592-84b6-6a1486298b4a",
   "metadata": {},
   "source": [
    "### Insertion sort"
   ]
  },
  {
   "cell_type": "code",
   "execution_count": 28,
   "id": "f945c645-b9ff-4153-8c6f-b20df60d93ac",
   "metadata": {
    "ExecuteTime": {
     "end_time": "2021-12-03T17:40+0000",
     "start_time": "2021-12-03T17:39:58.097Z"
    }
   },
   "outputs": [],
   "source": [
    "int[] numbers1 = createRandomIntArray(max);\n",
    "//println(Arrays.toString(numbers1));"
   ]
  },
  {
   "cell_type": "code",
   "execution_count": 29,
   "id": "a3c6fc51-f7ea-4a96-bc97-4e57f4b2717e",
   "metadata": {
    "ExecuteTime": {
     "end_time": "2021-12-03T17:37+0000",
     "start_time": "2021-12-03T17:37:56.815Z"
    }
   },
   "outputs": [],
   "source": [
    "void insertionSort(int arr[])\n",
    "    {\n",
    "        int n = arr.length;\n",
    "        for (int i = 1; i < n; ++i) {\n",
    "            int key = arr[i];\n",
    "            int j = i - 1;\n",
    " \n",
    "            /* Move elements of arr[0..i-1], that are\n",
    "               greater than key, to one position ahead\n",
    "               of their current position */\n",
    "            while (j >= 0 && arr[j] > key) {\n",
    "                arr[j + 1] = arr[j];\n",
    "                j = j - 1;\n",
    "            }\n",
    "            arr[j + 1] = key;\n",
    "        }\n",
    "    }"
   ]
  },
  {
   "cell_type": "code",
   "execution_count": 31,
   "id": "28e39ce8-58ec-46b4-95b0-6a21401eb34f",
   "metadata": {
    "ExecuteTime": {
     "end_time": "2021-12-03T17:43+0000",
     "start_time": "2021-12-03T17:40:08.928Z"
    }
   },
   "outputs": [
    {
     "name": "stdout",
     "output_type": "stream",
     "text": [
      "2 minutes, 56 seconds, 824 milis"
     ]
    }
   ],
   "source": [
    "//Instant time before started\n",
    "Instant start = Instant.now();\n",
    "\n",
    "insertionSort(numbers1);\n",
    "\n",
    "//Instant time when Finished\n",
    "Instant finish = Instant.now();\n",
    "\n",
    "//Time elapsed\n",
    "long timeElapsed = Duration.between(start, finish).toMillis();\n",
    "printTimeElapsed(timeElapsed);\n",
    "\n",
    "\n",
    "//println(Arrays.toString(numbers1));"
   ]
  },
  {
   "cell_type": "markdown",
   "id": "a8a66184-b03b-40ec-85be-bbd66f732085",
   "metadata": {},
   "source": [
    "### Bubble sort"
   ]
  },
  {
   "cell_type": "code",
   "execution_count": 32,
   "id": "b2177ac5-8a0b-4f55-99dd-2cd91a7992e2",
   "metadata": {},
   "outputs": [],
   "source": [
    "int[] numbers2 = createRandomIntArray(max);\n",
    "//println(Arrays.toString(numbers2));"
   ]
  },
  {
   "cell_type": "code",
   "execution_count": 33,
   "id": "d1cb46a9-434e-407b-b9c0-590f7cb1cbf9",
   "metadata": {},
   "outputs": [],
   "source": [
    "void bubbleSort(int arr[]) {\n",
    "    int n = arr.length;\n",
    "    for (int i = 0; i < n-1; i++) {\n",
    "        for (int j = 0; j < n-i-1; j++) {\n",
    "            if (arr[j] > arr[j+1]) {\n",
    "                // swap arr[j+1] and arr[j]\n",
    "                int temp = arr[j];\n",
    "                arr[j] = arr[j+1];\n",
    "                arr[j+1] = temp;\n",
    "            }\n",
    "        }\n",
    "    }\n",
    "}"
   ]
  },
  {
   "cell_type": "code",
   "execution_count": 34,
   "id": "41bc4430-a102-4a9b-a45f-310f02a8df3d",
   "metadata": {},
   "outputs": [
    {
     "name": "stdout",
     "output_type": "stream",
     "text": [
      "57 minutes, 16 seconds, 791 milis"
     ]
    }
   ],
   "source": [
    "//Instant time before started\n",
    "Instant start = Instant.now();\n",
    "\n",
    "bubbleSort(numbers2);\n",
    "\n",
    "//Instant time when Finished\n",
    "Instant finish = Instant.now();\n",
    "\n",
    "//TIme elapsed\n",
    "long timeElapsed = Duration.between(start, finish).toMillis();\n",
    "printTimeElapsed(timeElapsed);\n",
    "\n",
    "//println(Arrays.toString(numbers2));"
   ]
  },
  {
   "cell_type": "markdown",
   "id": "ad8dc851-5743-4c71-8b1b-cd216f419072",
   "metadata": {},
   "source": [
    "### Quick sort"
   ]
  },
  {
   "cell_type": "code",
   "execution_count": 5,
   "id": "07d4aabb-bda7-4cd6-9133-ef96623b8b90",
   "metadata": {},
   "outputs": [],
   "source": [
    "int[] numbers3 = createRandomIntArray(max);\n",
    "//println(Arrays.toString(numbers3));"
   ]
  },
  {
   "cell_type": "code",
   "execution_count": 6,
   "id": "57750652-c031-4a54-a5ae-b9c913078f21",
   "metadata": {},
   "outputs": [],
   "source": [
    "void swap(int[] arr, int i, int j) {\n",
    "    int temp = arr[i];\n",
    "    arr[i] = arr[j];\n",
    "    arr[j] = temp;\n",
    "}"
   ]
  },
  {
   "cell_type": "code",
   "execution_count": 7,
   "id": "c130fcfa-6a00-4a12-bd94-021359c51a04",
   "metadata": {},
   "outputs": [],
   "source": [
    "/* This function takes last element as pivot, places\n",
    "   the pivot element at its correct position in sorted\n",
    "   array, and places all smaller (smaller than pivot)\n",
    "   to left of pivot and all greater elements to right\n",
    "   of pivot */\n",
    "int partition(int[] arr, int low, int high) {\n",
    "      \n",
    "    // pivot\n",
    "    int pivot = arr[high]; \n",
    "      \n",
    "    // Index of smaller element and\n",
    "    // indicates the right position\n",
    "    // of pivot found so far\n",
    "    int i = (low - 1); \n",
    "  \n",
    "    for(int j = low; j <= high - 1; j++) {\n",
    "          \n",
    "        // If current element is smaller \n",
    "        // than the pivot\n",
    "        if (arr[j] < pivot) {\n",
    "              \n",
    "            // Increment index of \n",
    "            // smaller element\n",
    "            i++; \n",
    "            swap(arr, i, j);\n",
    "        }\n",
    "    }\n",
    "    swap(arr, i + 1, high);\n",
    "    return (i + 1);\n",
    "}"
   ]
  },
  {
   "cell_type": "code",
   "execution_count": 8,
   "id": "aee7371b-b3da-4dd6-91fe-8e19728a23e2",
   "metadata": {},
   "outputs": [],
   "source": [
    "/* The main function that implements QuickSort\n",
    "          arr[] --> Array to be sorted,\n",
    "          low --> Starting index,\n",
    "          high --> Ending index\n",
    " */\n",
    "static void quickSort(int[] arr, int low, int high) {\n",
    "    if (low < high) {\n",
    "          \n",
    "        // pi is partitioning index, arr[p]\n",
    "        // is now at right place \n",
    "        int pi = partition(arr, low, high);\n",
    "  \n",
    "        // Separately sort elements before\n",
    "        // partition and after partition\n",
    "        quickSort(arr, low, pi - 1);\n",
    "        quickSort(arr, pi + 1, high);\n",
    "    }\n",
    "}"
   ]
  },
  {
   "cell_type": "code",
   "execution_count": 9,
   "id": "4f056eff-960d-4467-a8d4-828c1b92a325",
   "metadata": {},
   "outputs": [
    {
     "name": "stdout",
     "output_type": "stream",
     "text": [
      "0 minutes, 0 seconds, 293 milis"
     ]
    }
   ],
   "source": [
    "//Instant time before started\n",
    "Instant start = Instant.now();\n",
    "\n",
    "quickSort(numbers3, 0, max - 1);\n",
    "\n",
    "//Instant time when Finished\n",
    "Instant finish = Instant.now();\n",
    "\n",
    "//Time elapsed\n",
    "long timeElapsed = Duration.between(start, finish).toMillis();\n",
    "printTimeElapsed(timeElapsed);\n",
    "\n",
    "//println(Arrays.toString(numbers3));"
   ]
  },
  {
   "cell_type": "code",
   "execution_count": null,
   "id": "4002d3a0-89fb-42e3-8ec1-c0dd5b51b574",
   "metadata": {},
   "outputs": [],
   "source": []
  }
 ],
 "metadata": {
  "kernelspec": {
   "display_name": "Java",
   "language": "java",
   "name": "java"
  },
  "language_info": {
   "codemirror_mode": "java",
   "file_extension": ".jshell",
   "mimetype": "text/x-java-source",
   "name": "Java",
   "pygments_lexer": "java",
   "version": "11.0.17+8-LTS"
  },
  "nbTranslate": {
   "displayLangs": [
    "*"
   ],
   "hotkey": "alt-t",
   "langInMainMenu": true,
   "sourceLang": "en",
   "targetLang": "ca",
   "useGoogleTranslate": true
  },
  "toc": {
   "base_numbering": 1,
   "nav_menu": {},
   "number_sections": true,
   "sideBar": true,
   "skip_h1_title": false,
   "title_cell": "Table of Contents",
   "title_sidebar": "Contents",
   "toc_cell": false,
   "toc_position": {},
   "toc_section_display": true,
   "toc_window_display": false
  },
  "varInspector": {
   "cols": {
    "lenName": 16,
    "lenType": 16,
    "lenVar": 40
   },
   "kernels_config": {
    "python": {
     "delete_cmd_postfix": "",
     "delete_cmd_prefix": "del ",
     "library": "var_list.py",
     "varRefreshCmd": "print(var_dic_list())"
    },
    "r": {
     "delete_cmd_postfix": ") ",
     "delete_cmd_prefix": "rm(",
     "library": "var_list.r",
     "varRefreshCmd": "cat(var_dic_list()) "
    }
   },
   "types_to_exclude": [
    "module",
    "function",
    "builtin_function_or_method",
    "instance",
    "_Feature"
   ],
   "window_display": false
  }
 },
 "nbformat": 4,
 "nbformat_minor": 5
}

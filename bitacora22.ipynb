{
 "cells": [
  {
   "cell_type": "markdown",
   "metadata": {
    "id": "v9hXfeq_tmoc"
   },
   "source": [
    " # Java template for **Colaboratory** _notebooks_\n",
    " ## Fonaments"
   ]
  },
  {
   "cell_type": "code",
   "execution_count": null,
   "metadata": {
    "id": "DC4pJkyNfOF1"
   },
   "outputs": [],
   "source": [
    "!apt update -q\n",
    "!apt-get install -q openjdk-11-jdk-headless\n",
    "!curl -L https://github.com/SpencerPark/IJava/releases/download/v1.3.0/ijava-1.3.0.zip -o ijava-kernel.zip\n",
    "!unzip -q ijava-kernel.zip -d ijava-kernel && cd ijava-kernel && python3 install.py --sys-prefix\n",
    "!jupyter kernelspec list"
   ]
  },
  {
   "cell_type": "code",
   "execution_count": null,
   "metadata": {
    "id": "bF2jPn3RfpfR"
   },
   "outputs": [],
   "source": [
    "System.out.println(\"Hello World\");\n"
   ]
  },
  {
   "cell_type": "code",
   "execution_count": null,
   "metadata": {
    "id": "llG40SRj9OdL"
   },
   "outputs": [],
   "source": [
    "short s = 10;\n",
    "int n = 10;\n",
    "long l = 10;"
   ]
  },
  {
   "cell_type": "code",
   "execution_count": null,
   "metadata": {
    "id": "zYvQPlwc-A9G"
   },
   "outputs": [],
   "source": [
    "int m = (int)10L;"
   ]
  },
  {
   "cell_type": "code",
   "execution_count": null,
   "metadata": {
    "id": "ViFAn4un_0fM"
   },
   "outputs": [],
   "source": []
  },
  {
   "cell_type": "code",
   "execution_count": null,
   "metadata": {
    "id": "Y2BVNSNKgkUK"
   },
   "outputs": [],
   "source": [
    "byte b = (byte)128;\n",
    "System.out.println(b);\n",
    "int k = b;\n",
    "System.out.println(b);\n"
   ]
  },
  {
   "cell_type": "code",
   "execution_count": null,
   "metadata": {
    "id": "-3c_BqBKDIro"
   },
   "outputs": [],
   "source": [
    "float f = 10.5f;"
   ]
  },
  {
   "cell_type": "code",
   "execution_count": null,
   "metadata": {
    "id": "2pgNGJsuD3HL"
   },
   "outputs": [],
   "source": [
    "int p = (int)10.8;\n",
    "System.out.println(p);"
   ]
  },
  {
   "cell_type": "code",
   "execution_count": null,
   "metadata": {
    "id": "WCJC-UNMHTqS"
   },
   "outputs": [],
   "source": [
    "char c = 'a';\n",
    "System.out.println(c);"
   ]
  },
  {
   "cell_type": "code",
   "execution_count": null,
   "metadata": {
    "id": "StUG6yXuINUi"
   },
   "outputs": [],
   "source": [
    "int h = c;\n",
    "System.out.println(h);\n"
   ]
  },
  {
   "cell_type": "code",
   "execution_count": null,
   "metadata": {
    "id": "ThkAq943JFcR"
   },
   "outputs": [],
   "source": [
    "int a = 'A' + 1;\n",
    "System.out.println(a);\n",
    "char t = (char)a;\n",
    "System.out.println(t);"
   ]
  },
  {
   "cell_type": "code",
   "execution_count": null,
   "metadata": {
    "id": "_NY22EXuJeaA"
   },
   "outputs": [],
   "source": [
    "char u = 65;"
   ]
  },
  {
   "cell_type": "code",
   "execution_count": null,
   "metadata": {
    "id": "yG8eRq4VJ3Jm"
   },
   "outputs": [],
   "source": [
    "byte g = (byte)(10 + 120);\n",
    "System.out.println(g);"
   ]
  },
  {
   "cell_type": "code",
   "execution_count": null,
   "metadata": {
    "id": "2FIAgcYIKwaT"
   },
   "outputs": [],
   "source": [
    "byte q = (byte)10 + (byte)120;\n",
    "System.out.println(q);"
   ]
  },
  {
   "cell_type": "code",
   "execution_count": null,
   "metadata": {
    "id": "g30GnqFlLYDp"
   },
   "outputs": [],
   "source": [
    "int x = (10L + 10L);"
   ]
  },
  {
   "cell_type": "code",
   "execution_count": null,
   "metadata": {
    "id": "fzIEZ6fEMIoj"
   },
   "outputs": [],
   "source": [
    "boolean bol1 = false;\n",
    "boolean bol2 = true;\n",
    "System.out.println(bol1);\n",
    "System.out.println(bol2);"
   ]
  },
  {
   "cell_type": "code",
   "execution_count": null,
   "metadata": {
    "id": "yH31kqhAMg79"
   },
   "outputs": [],
   "source": [
    "String salutacio = \"Hola\";\n",
    "System.out.println(salutacio);"
   ]
  },
  {
   "cell_type": "code",
   "execution_count": null,
   "metadata": {
    "id": "CWdSm5QINvPN"
   },
   "outputs": [],
   "source": [
    "String input(String str) {\n",
    "  System.out.print(str);\n",
    "  Scanner scn = new Scanner(System.in);\n",
    "  return scn.nextLine();\n",
    "}\n",
    "\n",
    "String name = input(\"What's your name? \");\n",
    "System.out.print(\"Hello \" +  name);"
   ]
  },
  {
   "cell_type": "code",
   "execution_count": null,
   "metadata": {
    "id": "ez8t_cqTOWeC"
   },
   "outputs": [],
   "source": []
  },
  {
   "cell_type": "markdown",
   "metadata": {
    "id": "3WYEFdM3n28g"
   },
   "source": [
    "## Expressions Aritmètiques"
   ]
  },
  {
   "cell_type": "code",
   "execution_count": null,
   "metadata": {
    "id": "DjeIHcDIn7P6"
   },
   "outputs": [],
   "source": [
    "//Suma\n",
    "System.out.println(10 + 9);\n",
    "//Resta\n",
    "System.out.println(10 - 9);\n",
    "//Multiplicació\n",
    "System.out.println(10 * 9);\n",
    "//Divisió entera\n",
    "System.out.println(10 / 9);\n",
    "//Divisió decimal\n",
    "System.out.println(10 / 9.0);"
   ]
  },
  {
   "cell_type": "code",
   "execution_count": null,
   "metadata": {
    "id": "7YqoGNFXoA4j"
   },
   "outputs": [],
   "source": [
    "int n = 4;\n",
    "int m = 2;\n",
    "int r = 2*(n / m) + n * m;\n",
    "System.out.println(r);\n",
    "System.out.println(r2);"
   ]
  },
  {
   "cell_type": "code",
   "execution_count": null,
   "metadata": {
    "id": "SJCNYplsqyCp"
   },
   "outputs": [],
   "source": []
  },
  {
   "cell_type": "markdown",
   "metadata": {
    "id": "Tizapc3ltcP8"
   },
   "source": [
    "## Expressions lògiques (booleanes)"
   ]
  },
  {
   "cell_type": "code",
   "execution_count": null,
   "metadata": {
    "id": "cdT3qdW8tgb2"
   },
   "outputs": [],
   "source": [
    "boolean jo = true;\n",
    "boolean tu = false;\n",
    "\n",
    "boolean resultAnd = jo && tu;\n",
    "boolean resultOr = jo || tu;\n",
    "boolean resultNot = !jo;\n",
    "\n",
    "System.out.println(resultAnd);\n",
    "System.out.println(resultOr);\n",
    "System.out.println(resultNot);"
   ]
  },
  {
   "cell_type": "code",
   "execution_count": null,
   "metadata": {
    "id": "Bmxe-oYxuDi_"
   },
   "outputs": [],
   "source": [
    "!(true || false && true) && (false || !false) "
   ]
  },
  {
   "cell_type": "markdown",
   "metadata": {
    "id": "1ptD33uF1v3c"
   },
   "source": [
    "## Operadors de comparació"
   ]
  },
  {
   "cell_type": "code",
   "execution_count": 27,
   "metadata": {
    "id": "MajDp-xu1rQw"
   },
   "outputs": [
    {
     "name": "stdout",
     "output_type": "stream",
     "text": [
      "true\n",
      "false\n",
      "false\n",
      "false\n",
      "true\n",
      "true\n"
     ]
    }
   ],
   "source": [
    "int x = 6, y = 6; //declaració de variable: diem el tipus de dada\n",
    "\n",
    "//y = 5; //declaracio de variable i assignacio al mateix temps\n",
    "\n",
    "\n",
    "System.out.println(x == y); //igualtat\n",
    "System.out.println(x != y); //diferent\n",
    "System.out.println(x > y); //més gran que\n",
    "System.out.println(x < y); //més petit que\n",
    "System.out.println(x >= y); //més gran o igual que\n",
    "System.out.println(x <= y); //més petit o igual que\n"
   ]
  },
  {
   "cell_type": "code",
   "execution_count": null,
   "metadata": {
    "id": "EMcoXSFf2Ykg"
   },
   "outputs": [],
   "source": [
    "int n = 5, m = 10;\n",
    "int r = n * m;\n",
    "System.out.println(r);"
   ]
  },
  {
   "cell_type": "code",
   "execution_count": null,
   "metadata": {
    "id": "gpUQnaeG5Wle"
   },
   "outputs": [],
   "source": [
    "boolean jo = true, tu = false;\n",
    "boolean result = jo && tu;\n",
    "System.out.println(result);"
   ]
  },
  {
   "cell_type": "code",
   "execution_count": null,
   "metadata": {
    "id": "2UJZsi8p6K0r"
   },
   "outputs": [],
   "source": [
    "\n",
    "int b = 6, c = 5, f = 8, t = 12;\n",
    "boolean me = true, you = false;\n",
    "boolean res = !(!(b >= c) || (f > t) && me || you);\n",
    "if (!res && res)\n",
    "  System.out.println(\"Res no es true\");\n",
    "else\n",
    "  System.out.println(\"Res no es false\");"
   ]
  },
  {
   "cell_type": "code",
   "execution_count": 7,
   "metadata": {
    "id": "XRcNs5bE6PpB"
   },
   "outputs": [
    {
     "name": "stdout",
     "output_type": "stream",
     "text": [
      "true petit\n"
     ]
    }
   ],
   "source": [
    "int num = 19;\n",
    "//true si el num està entre 10 i 20 inclosos\n",
    "//o està entre 110 i 120\n",
    "//false si no ho està\n",
    "if (num >= 10 && num <= 20)\n",
    "   System.out.println(\"true petit\");\n",
    "else if(num >= 110 && num <= 120)\n",
    "    System.out.println(\"true gran\");\n",
    "else\n",
    "   System.out.println(\"false\");\n"
   ]
  },
  {
   "cell_type": "code",
   "execution_count": 3,
   "metadata": {},
   "outputs": [
    {
     "name": "stdout",
     "output_type": "stream",
     "text": [
      "Edat vàlida, pero, ets menor \n",
      "Edat vàlida, ets un nen \n"
     ]
    }
   ],
   "source": [
    "int edat = 11;\n",
    "\n",
    "if (edat >= 18)\n",
    "    System.out.printf(\"Edat vàlida: ets major d'edat %n\");\n",
    "else if (edat <=17 && edat >=12){\n",
    "    System.out.printf(\"Edat vàlida, pero, ets menor %n\");\n",
    "    System.out.printf(\"Edat vàlida, ets un adolescent %n\");\n",
    "    }\n",
    "else if (edat <=11 && edat >=0){\n",
    "    System.out.printf(\"Edat vàlida, pero, ets menor %n\");\n",
    "    System.out.printf(\"Edat vàlida, ets un nen %n\");\n",
    "    }\n",
    "else\n",
    "    System.out.printf(\"Edat invàlida, no has nascut %n\");\n",
    "\n",
    "//System.out.printf(\"Edat vàlida, ets un adolescent %n\");//de 12 a 17\n",
    "//System.out.printf(\"Edat vàlida, ets un nen %n\");//de 0 a 11"
   ]
  },
  {
   "cell_type": "code",
   "execution_count": null,
   "metadata": {
    "id": "Cw7XM_j9-ulR"
   },
   "outputs": [],
   "source": [
    "int x = 6;\n",
    "int v = 36;\n",
    "//\"v és múltiple de x\" si v és multiple de x\n",
    "//\"v no és múltiple de x\" en cas contrari\n",
    "// l'operació mòdul %. Exemple: 21 % 7 = 0\n",
    "// Exemple: 16 % 5 = 1\n",
    "if (v % x == 0) \n",
    "  System.out.println(\"v és múltiple de x\");\n",
    " System.out.printf(\"v = %d %n\", v); //no forma part del if\n",
    "\n"
   ]
  },
  {
   "cell_type": "code",
   "execution_count": null,
   "metadata": {
    "id": "shL3AhjdCOzp"
   },
   "outputs": [],
   "source": [
    "int v = 35, x = 7;\n",
    "System.out.printf(\"v = %d, x = %d%n\", v, x);"
   ]
  },
  {
   "cell_type": "code",
   "execution_count": null,
   "metadata": {
    "id": "G2b3rFeEDjjK"
   },
   "outputs": [],
   "source": [
    "System.out.print(\"Hola \");\n",
    "System.out.print(\"bon dia \");\n",
    "System.out.println(\"Hola \");\n",
    "System.out.println(\"bon dia \");"
   ]
  },
  {
   "cell_type": "code",
   "execution_count": null,
   "metadata": {
    "id": "NizSX-KnERCE"
   },
   "outputs": [],
   "source": [
    "String mon = \"World\";\n",
    "int n = 55;\n",
    "System.out.printf(\"Hello %s!!! %nBye bye %d%n\", mon, n);"
   ]
  },
  {
   "cell_type": "code",
   "execution_count": null,
   "metadata": {
    "id": "KRQw3JZmFhDW"
   },
   "outputs": [],
   "source": [
    "System.out.printf(\"Numero deu mil milions = %,d %n\", 10000000000L);"
   ]
  },
  {
   "cell_type": "code",
   "execution_count": null,
   "metadata": {
    "id": "vOwULDiYHcSJ"
   },
   "outputs": [],
   "source": [
    "System.out.printf(\"Numero pi = %07.2f%n\", 12345.1415);"
   ]
  },
  {
   "cell_type": "code",
   "execution_count": null,
   "metadata": {
    "id": "yFfcd37AIcYe"
   },
   "outputs": [],
   "source": [
    "System.out.printf(\"Numero pi%n\");"
   ]
  },
  {
   "cell_type": "code",
   "execution_count": null,
   "metadata": {
    "id": "ZBbGasH2KRUx"
   },
   "outputs": [],
   "source": [
    "int dia = 1;\n",
    "int mes = 2;\n",
    "int any = 2017;\n",
    "\n",
    "System.out.printf(\"%02d/%02d/%4d%n\", dia, mes, any);"
   ]
  },
  {
   "cell_type": "code",
   "execution_count": null,
   "metadata": {
    "id": "ntqzwM5qOVP4"
   },
   "outputs": [],
   "source": []
  },
  {
   "cell_type": "markdown",
   "metadata": {
    "id": "_V1wO7rtPu0D"
   },
   "source": [
    "## Blocs de codi"
   ]
  },
  {
   "cell_type": "code",
   "execution_count": null,
   "metadata": {
    "id": "fwKCyH-0Pw3B"
   },
   "outputs": [],
   "source": [
    "int n = 7; // és visible per tots els blocs de codi fills\n",
    "{\n",
    "  //bloc de codi 1\n",
    "  System.out.printf(\"Des del bloc de codi 1: n = %d %n\", n);\n",
    "  int m = 10;\n",
    "  {\n",
    "    //bloc de codi 2 fill de l'1\n",
    "    System.out.printf(\"Des del bloc de codi 2: n = %d %n\", n);\n",
    "    System.out.printf(\"Des del bloc de codi 2: m = %d %n\", m);\n",
    "  }\n",
    "\n",
    "}\n",
    "{\n",
    "  //bloc de codi 3 germà de l'1 i tiet del 2\n",
    "  System.out.printf(\"Des del bloc de codi 3: n = %d %n\", n);\n",
    "  \n",
    "}\n",
    "\n",
    "System.out.printf(\"Des del bloc de codi cel·la: m = %d %n\", m);"
   ]
  },
  {
   "cell_type": "code",
   "execution_count": 5,
   "metadata": {
    "id": "Yd5SSo4OQr2j"
   },
   "outputs": [
    {
     "name": "stdout",
     "output_type": "stream",
     "text": [
      "Tens 23 anys \n",
      "Tens 23 anys \n"
     ]
    }
   ],
   "source": [
    "int edat = 23;\n",
    "\n",
    "if (edat >= 18){\n",
    "    printf(\"Tens %d anys %n\",edat);\n",
    "    printf(\"Tens %d anys %n\",edat);\n",
    "}"
   ]
  },
  {
   "cell_type": "code",
   "execution_count": null,
   "metadata": {},
   "outputs": [],
   "source": [
    "int edat = 23;\n",
    "int numRepeticions = 2;\n",
    "\n",
    "for (int counter = 1; counter <= numRepeticions ; counter = counter + 1){\n",
    "    printf(\"Tens %d anys %n\",edat);\n",
    "}"
   ]
  },
  {
   "cell_type": "code",
   "execution_count": 1,
   "metadata": {},
   "outputs": [
    {
     "name": "stdout",
     "output_type": "stream",
     "text": [
      "8 x 1 = 8\n",
      "8 x 2 = 16\n",
      "8 x 3 = 24\n",
      "8 x 4 = 32\n",
      "8 x 5 = 40\n",
      "8 x 6 = 48\n",
      "8 x 7 = 56\n",
      "8 x 8 = 64\n",
      "8 x 9 = 72\n",
      "8 x 10 = 80\n"
     ]
    }
   ],
   "source": [
    "int n = 8;\n",
    "int maxtabla = 10;\n",
    "//Usant un bucle (for), m'imprimeixi per pantalla la \n",
    "//taula de multiplicar de n\n",
    "\n",
    "for (int counter = 1; counter <= maxtabla; counter++){\n",
    "    System.out.printf(\"%d x %d = %d%n\", n, counter, n * counter);\n",
    "}\n"
   ]
  },
  {
   "cell_type": "markdown",
   "metadata": {},
   "source": [
    "#### Números primers"
   ]
  },
  {
   "cell_type": "code",
   "execution_count": 1,
   "metadata": {},
   "outputs": [
    {
     "name": "stdout",
     "output_type": "stream",
     "text": [
      "false"
     ]
    }
   ],
   "source": [
    "/* Fes un snippet que, donat un número n\n",
    "* imprimeixi true si n és primer\n",
    "* imprimeixi false si n NO és primer\n",
    "*/\n",
    "\n",
    "int numero = 100;\n",
    "\n",
    "boolean isPrime = true;\n",
    "if(numero <= 1)\n",
    "    println(false);\n",
    "else if(numero == 2)\n",
    "    println(true);\n",
    "else {\n",
    "//bucle fins a numero/2 només nombres senars\n",
    "   for (int i = 3; i <= numero/2; i += 2){\n",
    "       //si i és divisor, numero no és primer    \n",
    "       if (numero % i == 0){\n",
    "           isPrime = false;\n",
    "           break;\n",
    "       }       \n",
    "   }\n",
    "}\n",
    "print(isPrime);"
   ]
  },
  {
   "cell_type": "code",
   "execution_count": 3,
   "metadata": {},
   "outputs": [],
   "source": [
    "/*\n",
    "* Donat un número n, imprimir tots els nombres primers\n",
    "* entre 1 i n (inclòs n si ho és)\n",
    "*/\n",
    "\n",
    "int numero = 98;\n",
    "\n",
    "boolean isPrime = true;\n",
    "if(numero <= 1)\n",
    "    println(\"Entra un número més gran que 1\");\n",
    "else if(numero == 2)\n",
    "    printf(\"%d \", numero);\n",
    "else {\n",
    "//bucle fins a numero/2 només nombres senars\n",
    "   for (int i = 3; i <= numero/2; i += 2){\n",
    "       //si i és divisor, numero no és primer    \n",
    "       if (numero % i == 0){\n",
    "           isPrime = false;\n",
    "           break;\n",
    "       }       \n",
    "   }\n",
    "}\n",
    "if(isPrime)\n",
    "    printf(\"%d \",numero);\n"
   ]
  },
  {
   "cell_type": "code",
   "execution_count": 8,
   "metadata": {},
   "outputs": [
    {
     "name": "stdout",
     "output_type": "stream",
     "text": [
      "2 3 5 7 11 13 17 19 23 29 31 37 41 43 47 53 59 61 67 71 73 79 83 "
     ]
    }
   ],
   "source": [
    "int n = 87;\n",
    "// imprimir tots els números primers entre 1 i n\n",
    "boolean isPrime;\n",
    "for (int i = 2; i <= n; i++){\n",
    "\n",
    "    //imprimir només si la i és un número primer\n",
    "\n",
    "    isPrime = true;\n",
    "    //bucle fins a numero/2 només nombres senars\n",
    "       for (int j = 2; j <= i/2; j += 1){\n",
    "           //si i és divisor, numero no és primer    \n",
    "           if (i % j == 0){\n",
    "               isPrime = false;\n",
    "               break;\n",
    "           }       \n",
    "       }\n",
    "\n",
    "    if(isPrime)\n",
    "        printf(\"%d \",i);\n",
    "}"
   ]
  },
  {
   "cell_type": "code",
   "execution_count": 30,
   "metadata": {},
   "outputs": [
    {
     "name": "stdout",
     "output_type": "stream",
     "text": [
      "**********\n",
      " ********\n",
      "  ******\n",
      "   ****\n",
      "    **\n"
     ]
    }
   ],
   "source": [
    "// feu un bucle que imprimeixi un triangle amb\n",
    "// 10 estrelles a dalt i 2 estrella a baix\n",
    "\n",
    "//**********\n",
    "// ********\n",
    "//  ******\n",
    "//   ****\n",
    "//    **\n",
    "\n",
    "int files = 5;\n",
    "\n",
    "for (int i = 0; i < files; i ++){\n",
    "    for(int j = 0; j < i; j++)\n",
    "            print(\" \");\n",
    "    for(int k = 0 + i; k < files * 2 - i; k++){\n",
    "        print(\"*\");\n",
    "    }\n",
    "    println(\"\");\n",
    "\n",
    "}"
   ]
  },
  {
   "cell_type": "code",
   "execution_count": 38,
   "metadata": {},
   "outputs": [
    {
     "name": "stdout",
     "output_type": "stream",
     "text": [
      " **********\n",
      "  ********\n",
      "   ******\n",
      "    ****\n",
      "     **\n"
     ]
    }
   ],
   "source": [
    "int num1 = 10;\n",
    "char caracter = '*';\n",
    "char espacio = ' ';\n",
    "\n",
    "for (int i = 1; i <= num1; i+=2){\n",
    "    for (int j = 1; j <= i; j+=2){\n",
    "        System.out.printf(\"%c\", espacio);\n",
    "    }\n",
    "    for (int k = i; k <= num1; k++){\n",
    "        System.out.printf(\"%c\", caracter);\n",
    "    }\n",
    "    System.out.printf(\"%n\");\n",
    "}"
   ]
  },
  {
   "cell_type": "code",
   "execution_count": 53,
   "metadata": {},
   "outputs": [
    {
     "name": "stdout",
     "output_type": "stream",
     "text": [
      "             *\n",
      "            ***\n",
      "           *****\n",
      "          *******\n",
      "         *********\n",
      "        ***********\n",
      "       *************\n",
      "      ***************\n",
      "     *****************\n",
      "    *******************\n",
      "   *********************\n",
      "  ***********************\n",
      " *************************\n",
      "***************************\n",
      "         *********\n",
      "         *********\n",
      "         *********\n",
      "         *********\n",
      "         *********\n",
      "         *********\n"
     ]
    }
   ],
   "source": [
    "//    **\n",
    "//   ****\n",
    "//  ******\n",
    "// ********\n",
    "//**********\n",
    "//    **\n",
    "//    **\n",
    "int num1 = 27;\n",
    "char caracter = '*';\n",
    "char espacio = ' ';\n",
    "\n",
    "for (int i = num1; i >= 1; i -= 2){\n",
    "    for (int j = 1; j <= i / 2; j++){\n",
    "        System.out.printf(\"%c\", espacio);\n",
    "    }\n",
    "    for (int k = i; k <= num1; k++){\n",
    "        System.out.printf(\"%c\", caracter);\n",
    "    }\n",
    "    System.out.printf(\"%n\");\n",
    "}\n",
    "for(int f = 1; f <= num1 / 4; f++){\n",
    "    for(int l = 1; l <= num1 / 3; l++)\n",
    "        System.out.printf(\"%c\", espacio);\n",
    "    for(int p = 1; p <= num1 / 3; p++){\n",
    "        System.out.printf(\"%c\", caracter);\n",
    "        }\n",
    "    System.out.printf(\"%n\");\n",
    "}"
   ]
  },
  {
   "cell_type": "code",
   "execution_count": 5,
   "metadata": {
    "execution": {
     "iopub.execute_input": "2022-11-15T18:24+0000",
     "iopub.status.busy": "2022-11-15T18:24+0000",
     "iopub.status.idle": "2022-11-15T18:24+0000",
     "shell.execute_reply": "2022-11-15T18:24+0000"
    },
    "tags": []
   },
   "outputs": [
    {
     "name": "stdout",
     "output_type": "stream",
     "text": [
      "-321\n"
     ]
    }
   ],
   "source": [
    "// invertit els dígits d'un número enter\n",
    "\n",
    "int n = -123;\n",
    "int inv = 0;\n",
    "\n",
    "for (int i = 0; n != 0; i++){\n",
    "    // variable invertida para coger el último digito\n",
    "    int invertido = n%10;\n",
    "    // multiplicar por 10 y sumar el último digito\n",
    "    inv = (inv*10) + invertido;\n",
    "    // cambiar el numero n perdiendo el último digito\n",
    "    n = n/10;\n",
    "}\n",
    "printf(\"%d%n\", inv);"
   ]
  },
  {
   "cell_type": "code",
   "execution_count": 30,
   "metadata": {
    "execution": {
     "iopub.execute_input": "2022-11-15T18:55+0000",
     "iopub.status.busy": "2022-11-15T18:55+0000",
     "iopub.status.idle": "2022-11-15T18:55+0000",
     "shell.execute_reply": "2022-11-15T18:55+0000"
    },
    "tags": []
   },
   "outputs": [
    {
     "name": "stdout",
     "output_type": "stream",
     "text": [
      "-12"
     ]
    }
   ],
   "source": [
    "// Escriu un snippet que imprimeixi per pantalla el resultat de \n",
    "//multiplicar dos números enters. No es pot utilitzar l'operador *\n",
    "\n",
    "int a = -6, b = 2;\n",
    "int mult = 0;\n",
    "if(a >= 0 && b >=0){\n",
    "        \n",
    "    for(int i = 0; i != a; i++){\n",
    "        mult = b + mult;\n",
    "    }\n",
    "} else if(a < 0 || b < 0){\n",
    "    for(int i = 0; i != a; i--){\n",
    "        mult = b + mult; \n",
    "    }\n",
    "    mult = -mult;\n",
    "} \n",
    "print(mult);"
   ]
  },
  {
   "cell_type": "code",
   "execution_count": 39,
   "metadata": {
    "execution": {
     "iopub.execute_input": "2022-11-15T19:13+0000",
     "iopub.status.busy": "2022-11-15T19:13+0000",
     "iopub.status.idle": "2022-11-15T19:13+0000",
     "shell.execute_reply": "2022-11-15T19:13+0000"
    },
    "tags": []
   },
   "outputs": [
    {
     "name": "stdout",
     "output_type": "stream",
     "text": [
      "false"
     ]
    }
   ],
   "source": [
    "// Escriu un snippet que imprimeixi\n",
    "//true si és un número palíndrom (cap i cua) o false si no ho és.\n",
    "\n",
    "// 12345: no és palíndrom\n",
    "//4567654: sí és palíndrom\n",
    "// 44 sí és palíndrom\n",
    "// 5 sí és palíndrom\n",
    "\n",
    "//s declaran las variables n(para indicar el palindromo  ) \n",
    "//y pal(para trabajar con el palindromo), luego creamos la variable \n",
    "//revers para invertir  n.\n",
    "\n",
    "int n = 1213;\n",
    "int pal = n;\n",
    "int revers = 0;\n",
    "//usamos un for para crear un bucle\n",
    "for( ;n!=0; ){\n",
    "    //multiplicas la variable revers * 10\n",
    "    revers = revers * 10;\n",
    "    //al resultado le sumas el modulo 10 de n\n",
    "    revers = revers + n%10;\n",
    "    \n",
    "    //luego a la n natural le divides 10 y le quitas 1 dígito con esto\n",
    "    n = n/10;\n",
    "    \n",
    "    //el bucle se guarda y sigue hasta que no queda nada.\n",
    "}\n",
    "\n",
    "if(revers == pal){\n",
    "    printf(\"true\");\n",
    "    }\n",
    "else{\n",
    "    printf(\"false\");\n",
    "}\n"
   ]
  },
  {
   "cell_type": "code",
   "execution_count": 104,
   "metadata": {
    "execution": {
     "iopub.execute_input": "2022-11-15T19:49+0000",
     "iopub.status.busy": "2022-11-15T19:49+0000",
     "iopub.status.idle": "2022-11-15T19:49+0000",
     "shell.execute_reply": "2022-11-15T19:49+0000"
    },
    "tags": []
   },
   "outputs": [
    {
     "name": "stdout",
     "output_type": "stream",
     "text": [
      "true"
     ]
    }
   ],
   "source": [
    "//Donat un nombre enter N, escriu un snippet que imprimeixi true \n",
    "//si aquest nombre pertany a la sèrie de Fibonacci, o false si no hi pertany.\n",
    "\n",
    "int n = 89;\n",
    "int ant1 = 1;\n",
    "int ant2 = 1;\n",
    "\n",
    "boolean fibo = false;\n",
    "if (n == 0 || n == 1){\n",
    "    print(!fibo);\n",
    "}\n",
    "\n",
    "else{\n",
    "  for (int i = 0; i <= n; i++){\n",
    "      if ( i == ant1 + ant2){\n",
    "          if ( i == n){\n",
    "              fibo = true;\n",
    "          }\n",
    "          ant2 = ant1;\n",
    "          ant1 = i;\n",
    "     }\n",
    "  }\n",
    "    print (fibo);\n",
    "}"
   ]
  },
  {
   "cell_type": "markdown",
   "metadata": {},
   "source": [
    "## Arrays"
   ]
  },
  {
   "cell_type": "code",
   "execution_count": 17,
   "metadata": {
    "execution": {
     "iopub.execute_input": "2022-11-14T18:26+0000",
     "iopub.status.busy": "2022-11-14T18:26+0000",
     "iopub.status.idle": "2022-11-14T18:26+0000",
     "shell.execute_reply": "2022-11-14T18:26+0000"
    },
    "tags": []
   },
   "outputs": [
    {
     "name": "stdout",
     "output_type": "stream",
     "text": [
      "Valor per defecte de int: 0\n",
      "7\n",
      "5\n",
      "9\n",
      "6\n",
      "La mida de l'array és: 4\n"
     ]
    }
   ],
   "source": [
    "// notes\n",
    "//declaro l'array\n",
    "int[] notes; //per conveni es fa servir aquest !!\n",
    "\n",
    "//creo un nou array (es fa la reserva de memòria aquí)\n",
    "notes = new int[4];\n",
    "\n",
    "printf(\"Valor per defecte de int: %d%n\",notes[3]);\n",
    "\n",
    "//assignació de valors de l'array\n",
    "notes[0] = 7;\n",
    "notes[1] = 5;\n",
    "notes[2] = 9;\n",
    "notes[3] = 6;\n",
    "\n",
    "printf(\"%d%n\",notes[0]);\n",
    "printf(\"%d%n\",notes[1]);\n",
    "printf(\"%d%n\",notes[2]);\n",
    "printf(\"%d%n\",notes[3]);\n",
    "\n",
    "// mida de l'array\n",
    "printf(\"La mida de l'array és: %d%n\", notes.length);\n"
   ]
  },
  {
   "cell_type": "code",
   "execution_count": 22,
   "metadata": {
    "execution": {
     "iopub.execute_input": "2022-11-14T18:34+0000",
     "iopub.status.busy": "2022-11-14T18:34+0000",
     "iopub.status.idle": "2022-11-14T18:34+0000",
     "shell.execute_reply": "2022-11-14T18:34+0000"
    },
    "tags": []
   },
   "outputs": [
    {
     "name": "stdout",
     "output_type": "stream",
     "text": [
      "Best language for enterprise apps: null\n",
      "Best language for enterprise apps: java\n",
      "Best language for data science: python\n",
      "Best language for front end development: javascript\n",
      "Best language for mobile apps: kotlin\n",
      "Best language for big data: scala\n"
     ]
    }
   ],
   "source": [
    "// array de llenguatges de programació\n",
    "//Declaro l'array\n",
    "String[] languages;\n",
    "\n",
    "//Creo l'array\n",
    "languages = new String[5];\n",
    "\n",
    "printf(\"Best language for enterprise apps: %s%n\", languages[0]);\n",
    "\n",
    "languages[0] = \"java\";\n",
    "languages[1] = \"python\";\n",
    "languages[2] = \"javascript\";\n",
    "languages[3] = \"kotlin\";\n",
    "languages[4] = \"scala\";\n",
    "\n",
    "printf(\"Best language for enterprise apps: %s%n\", languages[0]);\n",
    "printf(\"Best language for data science: %s%n\", languages[1]);\n",
    "printf(\"Best language for front end development: %s%n\", languages[2]);\n",
    "printf(\"Best language for mobile apps: %s%n\", languages[3]);\n",
    "printf(\"Best language for big data: %s%n\", languages[4]);"
   ]
  },
  {
   "cell_type": "code",
   "execution_count": 25,
   "metadata": {
    "execution": {
     "iopub.execute_input": "2022-11-14T18:38+0000",
     "iopub.status.busy": "2022-11-14T18:38+0000",
     "iopub.status.idle": "2022-11-14T18:38+0000",
     "shell.execute_reply": "2022-11-14T18:38+0000"
    },
    "tags": []
   },
   "outputs": [
    {
     "ename": "CompilationException",
     "evalue": "",
     "output_type": "error",
     "traceback": [
      "\u001b[1m\u001b[30m|   \u001b[1m\u001b[30mlanguages = \u001b[0m\u001b[1m\u001b[30m\u001b[41m\u001b[0m\u001b[1m\u001b[30m{\"java\",\"python\",\"javascript\",\"kotlin\",\"scala\", null, null, null};\u001b[0m",
      "\u001b[1m\u001b[31millegal start of expression\u001b[0m",
      ""
     ]
    }
   ],
   "source": [
    "// array de llenguatges de programació\n",
    "//Declaro l'array\n",
    "String[] languages;\n",
    "\n",
    "//Creo l'array\n",
    "languages = new String[]{\"java\",\"python\",\"javascript\",\"kotlin\",\"scala\", null, null, null};\n",
    "\n",
    "printf(\"Best language for enterprise apps: %s%n\", languages[0]);\n",
    "printf(\"Best language for data science: %s%n\", languages[1]);\n",
    "printf(\"Best language for front end development: %s%n\", languages[2]);\n",
    "printf(\"Best language for mobile apps: %s%n\", languages[3]);\n",
    "printf(\"Best language for big data: %s%n\", languages[4]);\n",
    "\n",
    "// mida de l'array\n",
    "printf(\"La mida de l'array és: %d%n\", languages.length);\n"
   ]
  },
  {
   "cell_type": "code",
   "execution_count": 31,
   "metadata": {
    "execution": {
     "iopub.execute_input": "2022-11-14T18:41+0000",
     "iopub.status.busy": "2022-11-14T18:41+0000",
     "iopub.status.idle": "2022-11-14T18:41+0000",
     "shell.execute_reply": "2022-11-14T18:41+0000"
    },
    "tags": []
   },
   "outputs": [
    {
     "name": "stdout",
     "output_type": "stream",
     "text": [
      "Best language for enterprise apps: java\n",
      "Best language for data science: python\n",
      "Best language for front end development: javascript\n",
      "Best language for mobile apps: kotlin\n",
      "Best language for big data: scala\n",
      "La mida de l'array és: 5\n"
     ]
    }
   ],
   "source": [
    "// array de llenguatges de programació\n",
    "//Declaro l'array i el creo\n",
    "String[] languages = {\"java\",\"python\",\"javascript\",\"kotlin\",\"scala\"};\n",
    "\n",
    "printf(\"Best language for enterprise apps: %s%n\", languages[0]);\n",
    "printf(\"Best language for data science: %s%n\", languages[1]);\n",
    "printf(\"Best language for front end development: %s%n\", languages[2]);\n",
    "printf(\"Best language for mobile apps: %s%n\", languages[3]);\n",
    "printf(\"Best language for big data: %s%n\", languages[4]);\n",
    "\n",
    "// mida de l'array\n",
    "printf(\"La mida de l'array és: %d%n\", languages.length);\n"
   ]
  },
  {
   "cell_type": "code",
   "execution_count": 36,
   "metadata": {
    "execution": {
     "iopub.execute_input": "2022-11-14T18:55+0000",
     "iopub.status.busy": "2022-11-14T18:55+0000",
     "iopub.status.idle": "2022-11-14T18:55+0000",
     "shell.execute_reply": "2022-11-14T18:55+0000"
    },
    "tags": []
   },
   "outputs": [
    {
     "name": "stdout",
     "output_type": "stream",
     "text": [
      "java\n",
      "python\n",
      "javascript\n",
      "kotlin\n",
      "scala\n"
     ]
    }
   ],
   "source": [
    "//donat l'array següent\n",
    "String[] languages = {\"java\",\"python\",\"javascript\",\"kotlin\",\"scala\"};\n",
    "//Feu un snippet que imprimeixi tots els llenguatges usant una\n",
    "//i només una vegada la instrucció printf\n",
    "\n",
    "for(int index = 0; index<=languages.length-1;index++){\n",
    "    printf(\"%s%n\" , languages[index]);\n",
    "} \n"
   ]
  },
  {
   "cell_type": "markdown",
   "metadata": {},
   "source": [
    "## Seguim amb arrays"
   ]
  },
  {
   "cell_type": "code",
   "execution_count": 6,
   "metadata": {
    "execution": {
     "iopub.execute_input": "2022-11-21T17:16+0000",
     "iopub.status.busy": "2022-11-21T17:16+0000",
     "iopub.status.idle": "2022-11-21T17:16+0000",
     "shell.execute_reply": "2022-11-21T17:16+0000"
    },
    "tags": []
   },
   "outputs": [
    {
     "name": "stdout",
     "output_type": "stream",
     "text": [
      "not found"
     ]
    }
   ],
   "source": [
    "// Feu un snippet que, donat un número enter n i un array d'enters\n",
    "//imprimeixi \"found\" si n pertany a l'array\n",
    "//o \"not found\" si n no pertany a l'array\n",
    "\n",
    "int n = 25;\n",
    "int[] array = {6,3,55,7,4,6,12,70,-4,10};\n",
    "boolean found = false;\n",
    "\n",
    "for (int i = 0; i < array.length; i++){\n",
    "    if (n == array[i]){\n",
    "        found = true;\n",
    "        break;\n",
    "    }\n",
    "}    \n",
    "if (found)\n",
    "    print(\"found\");\n",
    "else \n",
    "    print(\"not found\");\n",
    "    \n",
    "\n"
   ]
  },
  {
   "cell_type": "code",
   "execution_count": 14,
   "metadata": {
    "execution": {
     "iopub.execute_input": "2022-11-21T17:29+0000",
     "iopub.status.busy": "2022-11-21T17:29+0000",
     "iopub.status.idle": "2022-11-21T17:29+0000",
     "shell.execute_reply": "2022-11-21T17:29+0000"
    },
    "tags": []
   },
   "outputs": [
    {
     "name": "stdout",
     "output_type": "stream",
     "text": [
      "0"
     ]
    }
   ],
   "source": [
    "// Feu un snippet que, donat un número enter n i un array d'enters\n",
    "//imprimeixi 0 si n no pertany a l'array\n",
    "//o si hi pertany, imprimeixi el número de vegades que hi apareix.\n",
    "\n",
    "int n = 2;\n",
    "int[] array = {6,3,55,7,4,6,12,70,-4,10,6}; //imprimirà 2\n",
    "int contador = 0;\n",
    "\n",
    "for (int i = 0; i < array.length; i++){\n",
    "    if (n == array[i]){\n",
    "        contador++;\n",
    "    }\n",
    "}    \n",
    "print(contador);\n",
    "\n",
    "\n"
   ]
  },
  {
   "cell_type": "code",
   "execution_count": 18,
   "metadata": {
    "execution": {
     "iopub.execute_input": "2022-11-21T18:16+0000",
     "iopub.status.busy": "2022-11-21T18:16+0000",
     "iopub.status.idle": "2022-11-21T18:16+0000",
     "shell.execute_reply": "2022-11-21T18:16+0000"
    },
    "tags": []
   },
   "outputs": [
    {
     "name": "stdout",
     "output_type": "stream",
     "text": [
      "-3\n"
     ]
    }
   ],
   "source": [
    "// Feu un snippet que, donat un array d'enters\n",
    "//imprimeixi el valor màxim que hi ha dins de l'array\n",
    "\n",
    "int[] array = {-6,-3,-55,-7,-4,-6,-12,-70,-4,-10,-6};//imprimirà 70\n",
    "int max= array[0];\n",
    " for (int i = 0; i < array.length; i++){\n",
    "    if( max < array[i])\n",
    "        max = array[i];\n",
    " }\n",
    "println(max);"
   ]
  },
  {
   "cell_type": "code",
   "execution_count": 20,
   "metadata": {
    "execution": {
     "iopub.execute_input": "2022-11-21T18:46+0000",
     "iopub.status.busy": "2022-11-21T18:46+0000",
     "iopub.status.idle": "2022-11-21T18:46+0000",
     "shell.execute_reply": "2022-11-21T18:46+0000"
    },
    "tags": []
   },
   "outputs": [
    {
     "name": "stdout",
     "output_type": "stream",
     "text": [
      "La media es : 5,83\n"
     ]
    }
   ],
   "source": [
    "// Feu un snippet que, donat un array de double amb les notes d'una classe\n",
    "//imprimeixi la nota mitjana de la classe\n",
    "\n",
    "double[] notes = {6.0,3.5,5.5,7.2,4.5,6.8,2.9,7.0,4.3,10.0,6.4};\n",
    "double contadormedia = 0;\n",
    "\n",
    "    for(int i = 0; i < notes.length; i++){\n",
    "        contadormedia = contadormedia + notes[i];\n",
    "    }\n",
    "printf(\"La media es : %.2f%n\", contadormedia/notes.length);\n"
   ]
  },
  {
   "cell_type": "code",
   "execution_count": 21,
   "metadata": {
    "execution": {
     "iopub.execute_input": "2022-11-22T19:09+0000",
     "iopub.status.busy": "2022-11-22T19:09+0000",
     "iopub.status.idle": "2022-11-22T19:09+0000",
     "shell.execute_reply": "2022-11-22T19:09+0000"
    },
    "tags": []
   },
   "outputs": [
    {
     "name": "stdout",
     "output_type": "stream",
     "text": [
      "10.0\n",
      "7.2\n",
      "7.0\n",
      "6.8\n",
      "6.4\n",
      "6.0\n",
      "5.5\n",
      "4.5\n",
      "4.3\n",
      "3.5\n",
      "2.9\n",
      "0.0\n"
     ]
    }
   ],
   "source": [
    "// Feu un snippet que, donat un array de double amb les notes d'una classe\n",
    "//imprimeixi totes les notes per pantalla de més gran a més petita\n",
    "\n",
    "\n",
    "\n",
    "double[] notes = {6.0,3.5,5.5,7.2,4.5,6.8,2.9,7.0,4.3,10.0,6.4};\n",
    "\n",
    "//per a trobar el maxim\n",
    "double max = notes[0];\n",
    "for (int i = 0; i < notes.length; i++){\n",
    "    if( max < notes[i])\n",
    "        max = notes[i];\n",
    "}\n",
    "\n",
    "println(max);\n",
    "\n",
    "double prevMax = max;\n",
    "\n",
    "for (int index = 0; index < notes.length; index++){\n",
    "\n",
    "max= 0;\n",
    "for (int i = 0; i < notes.length; i++){\n",
    "    if( max < notes[i] && notes[i] < prevMax)\n",
    "        max = notes[i];\n",
    "}\n",
    "println(max);\n",
    "prevMax = max;\n",
    "}"
   ]
  },
  {
   "cell_type": "code",
   "execution_count": 24,
   "metadata": {
    "execution": {
     "iopub.execute_input": "2022-11-22T19:35+0000",
     "iopub.status.busy": "2022-11-22T19:35+0000",
     "iopub.status.idle": "2022-11-22T19:35+0000",
     "shell.execute_reply": "2022-11-22T19:35+0000"
    },
    "tags": []
   },
   "outputs": [
    {
     "name": "stdout",
     "output_type": "stream",
     "text": [
      "Abans de l'intercanvi (swap): a = 5, b = 9\n",
      "Després de l'intercanvi (swap): a = 9, b = 5"
     ]
    }
   ],
   "source": [
    "//Donada la variable entera a amb el seu valor\n",
    "//i donada la variable entera b, amb el seu valor\n",
    "//1- imprimiu els seus valors\n",
    "//2- Intercanvieu els seus valors\n",
    "//3- Imprimiu els seus nous valors intercanviats\n",
    "\n",
    "int a = 5;\n",
    "int b = 9;\n",
    "\n",
    "printf(\"Abans de l'intercanvi (swap): a = %d, b = %d%n\", a, b);\n",
    "\n",
    "//TODO faig el swap aquí\n",
    "int aux = a;\n",
    "a = b;\n",
    "b = aux;\n",
    "\n",
    "printf(\"Després de l'intercanvi (swap): a = %d, b = %d\", a, b);\n"
   ]
  },
  {
   "cell_type": "code",
   "execution_count": 30,
   "metadata": {
    "execution": {
     "iopub.execute_input": "2022-11-22T19:49+0000",
     "iopub.status.busy": "2022-11-22T19:49+0000",
     "iopub.status.idle": "2022-11-22T19:49+0000",
     "shell.execute_reply": "2022-11-22T19:49+0000"
    },
    "tags": []
   },
   "outputs": [
    {
     "name": "stdout",
     "output_type": "stream",
     "text": [
      "Abans de l'intercanvi (swap): a = a, b = b\n"
     ]
    },
    {
     "ename": "CompilationException",
     "evalue": "",
     "output_type": "error",
     "traceback": [
      "\u001b[1m\u001b[30m|   \u001b[1m\u001b[30ma = \u001b[0m\u001b[1m\u001b[30m\u001b[41mb - a\u001b[0m\u001b[1m\u001b[30m ;\u001b[0m",
      "\u001b[1m\u001b[31mincompatible types: possible lossy conversion from int to char\u001b[0m",
      ""
     ]
    }
   ],
   "source": [
    "//Donada la variable entera a amb el seu valor\n",
    "//i donada la variable entera b, amb el seu valor\n",
    "//1- imprimiu els seus valors\n",
    "//2- Intercanvieu els seus valors\n",
    "//3- Imprimiu els seus nous valors intercanviats\n",
    "//NO ES POT FER SERVIR CAP VARIABLE AUXILIAR\n",
    "\n",
    "char a = 'a';\n",
    "char b = 'b';\n",
    "\n",
    "printf(\"Abans de l'intercanvi (swap): a = %c, b = %c%n\", a, b);\n",
    "\n",
    "//TODO faig el swap aquí\n",
    "a = (b - a) ;//b - a igual a 4 \n",
    "b = (b - a) ;//b ahora es 5 \n",
    "a = a + b ; // a vale 9  \n",
    "\n",
    "printf(\"Després de l'intercanvi (swap): a = %c, b = %c\", a, b);"
   ]
  },
  {
   "cell_type": "markdown",
   "metadata": {},
   "source": [
    "# Exercicis"
   ]
  },
  {
   "cell_type": "markdown",
   "metadata": {},
   "source": [
    "## Exercici 1\n",
    "\n",
    "Donat un array, busca el seu màxim, el seu mínim, i intercanvia'ls de lloc.\n",
    "\n",
    "Per exemple:\n",
    "\n",
    "```java\n",
    "//abans\n",
    "int[] array = {4,2,7,9,1,2,6,-1,8};\n",
    "println(Arrays.toString(array)); //imprimirà [4, 2, 7, 9, 1, 2, 6, -1, 8]\n",
    "\n",
    "//després\n",
    "println(Arrays.toString(array)); //imprimirà [4, 2, 7, -1, 1, 2, 6, 9, 8]\n",
    "```"
   ]
  },
  {
   "cell_type": "code",
   "execution_count": 5,
   "metadata": {
    "execution": {
     "iopub.execute_input": "2022-11-28T16:29+0000",
     "iopub.status.busy": "2022-11-28T16:29+0000",
     "iopub.status.idle": "2022-11-28T16:29+0000",
     "shell.execute_reply": "2022-11-28T16:29+0000"
    },
    "tags": []
   },
   "outputs": [
    {
     "name": "stdout",
     "output_type": "stream",
     "text": [
      "[4, 2, 7, 9, 1, 2, 6, -1, 8]\n",
      "[4, 2, 7, 9, 1, 2, 6, -1, 8]\n"
     ]
    }
   ],
   "source": [
    "//abans\n",
    "int[] array = {4,2,7,9,1,2,6,-1,8};\n",
    "println(Arrays.toString(array)); //imprimirà [4, 2, 7, 9, 1, 2, 6, -1, 8]\n",
    "\n",
    "//TODO\n",
    "\n",
    "//després\n",
    "println(Arrays.toString(array)); //imprimirà [4, 2, 7, -1, 1, 2, 6, 9, 8]"
   ]
  },
  {
   "cell_type": "markdown",
   "metadata": {},
   "source": [
    "## Exercici 2"
   ]
  },
  {
   "cell_type": "markdown",
   "metadata": {},
   "source": [
    "Donat un array d'enters, fes un snippet que imprimeixi per pantalla els números en ordre ascendent (primer el més petit, al final el més gran).\n",
    "\n",
    "Exemple:\n",
    "\n",
    "```java\n",
    "int[] arr = {3,4,1};\n",
    "\n",
    "//Ha dimprimir\n",
    "// 1 3 4\n",
    "```"
   ]
  },
  {
   "cell_type": "markdown",
   "metadata": {},
   "source": [
    "## Exercici 3"
   ]
  },
  {
   "cell_type": "markdown",
   "metadata": {},
   "source": [
    "Repeteix l'exercici anterior, però ara enlloc d'anar imprimint els enters ordenats de més petit a més gran per pantalla, els vas posant a un altre array, i al final imprimeixes el nou array, on han de sortir tots els elements ordenats de menor a major."
   ]
  },
  {
   "cell_type": "code",
   "execution_count": 8,
   "metadata": {
    "execution": {
     "iopub.execute_input": "2022-11-28T16:39+0000",
     "iopub.status.busy": "2022-11-28T16:39+0000",
     "iopub.status.idle": "2022-11-28T16:39+0000",
     "shell.execute_reply": "2022-11-28T16:39+0000"
    },
    "tags": []
   },
   "outputs": [
    {
     "name": "stdout",
     "output_type": "stream",
     "text": [
      "null\n"
     ]
    }
   ],
   "source": [
    "int[] array1 = {4,2,7,9,1,2,6,-1,8};\n",
    "int[] array2;\n",
    "\n",
    "//TODO\n",
    "\n",
    "println(Arrays.toString(array2)); //imprimirà [-1, 1, 2, 2, 4, 6, 7, 8, 9]"
   ]
  },
  {
   "cell_type": "markdown",
   "metadata": {},
   "source": [
    "## Exercici 4"
   ]
  },
  {
   "cell_type": "markdown",
   "metadata": {},
   "source": [
    "Donat un array d'enters, troba el seu màxim i posa'l al final de l'array. L'enter que està al final de l'array s'ha d'intercanviar amb el valor màxim trobat (intercanviar posicions)."
   ]
  },
  {
   "cell_type": "code",
   "execution_count": 7,
   "metadata": {
    "execution": {
     "iopub.execute_input": "2022-11-28T16:37+0000",
     "iopub.status.busy": "2022-11-28T16:37+0000",
     "iopub.status.idle": "2022-11-28T16:37+0000",
     "shell.execute_reply": "2022-11-28T16:37+0000"
    }
   },
   "outputs": [
    {
     "name": "stdout",
     "output_type": "stream",
     "text": [
      "[4, 2, 7, 9, 1, 2, 6, -1, 8]\n"
     ]
    }
   ],
   "source": [
    "int[] array = {4,2,7,9,1,2,6,-1,8};\n",
    "\n",
    "\n",
    "//TODO\n",
    "\n",
    "println(Arrays.toString(array)); //imprimirà [4, 2, 7, 8, 1, 2, 6, -1, 9]"
   ]
  },
  {
   "cell_type": "markdown",
   "metadata": {},
   "source": [
    "## Exercici 5\n",
    "\n",
    "A partir de l'exercici anterior, ordena tot l'array en ordre ascendent (de menor a major) sense utilitzar un segon array."
   ]
  },
  {
   "cell_type": "code",
   "execution_count": 9,
   "metadata": {
    "execution": {
     "iopub.execute_input": "2022-11-28T16:39+0000",
     "iopub.status.busy": "2022-11-28T16:39+0000",
     "iopub.status.idle": "2022-11-28T16:39+0000",
     "shell.execute_reply": "2022-11-28T16:39+0000"
    }
   },
   "outputs": [
    {
     "name": "stdout",
     "output_type": "stream",
     "text": [
      "[4, 2, 7, 9, 1, 2, 6, -1, 8]\n"
     ]
    }
   ],
   "source": [
    "int[] array = {4,2,7,9,1,2,6,-1,8};\n",
    "\n",
    "\n",
    "//TODO\n",
    "\n",
    "println(Arrays.toString(array)); //imprimirà [-1, 1, 2, 2, 4, 6, 7, 8, 9]"
   ]
  },
  {
   "cell_type": "markdown",
   "metadata": {},
   "source": [
    "## Exercici 6\n",
    "\n",
    "Ordena un array donat d'enters, sense fer servir un segon array, seguint el següent algorisme:\n",
    "\n",
    "1. Compara el primer element de l'array amb el segon element de l'array, si el primer és més gran que el segon, intercanvia'ls.\n",
    "2. Compara el segon element de l'array amb el tercer element, si el segon és més gran, intercanvia'ls.\n",
    "3. Compara el tercer amb el quart elements i intercanvia'ls si el tercer és més gran que el segon.\n",
    "4. Repeteix aquest procés de comparació fins que arribis al final i comparis el penúltim element amb l'últim (i els intercanvies si el penúltim és més gran que l'últim).\n",
    "5. Repeteix les passes d'1 a 4 fins que es compleixi la següent condició: en totes les comparacions **no s'ha fet cap intercanvi**.\n",
    "\n",
    "Finalment, tindràs l'array ordenat."
   ]
  },
  {
   "cell_type": "code",
   "execution_count": 10,
   "metadata": {
    "execution": {
     "iopub.execute_input": "2022-11-28T16:45+0000",
     "iopub.status.busy": "2022-11-28T16:45+0000",
     "iopub.status.idle": "2022-11-28T16:45+0000",
     "shell.execute_reply": "2022-11-28T16:45+0000"
    }
   },
   "outputs": [
    {
     "name": "stdout",
     "output_type": "stream",
     "text": [
      "[4, 2, 7, 9, 1, 2, 6, -1, 8]\n"
     ]
    }
   ],
   "source": [
    "int[] array = {4,2,7,9,1,2,6,-1,8};\n",
    "\n",
    "\n",
    "//TODO\n",
    "\n",
    "println(Arrays.toString(array)); //imprimirà [-1, 1, 2, 2, 4, 6, 7, 8, 9]"
   ]
  },
  {
   "cell_type": "code",
   "execution_count": null,
   "metadata": {},
   "outputs": [],
   "source": []
  }
 ],
 "metadata": {
  "colab": {
   "private_outputs": true,
   "provenance": []
  },
  "kernelspec": {
   "display_name": "Java",
   "language": "java",
   "name": "java"
  },
  "language_info": {
   "codemirror_mode": "java",
   "file_extension": ".jshell",
   "mimetype": "text/x-java-source",
   "name": "Java",
   "pygments_lexer": "java",
   "version": "17.0.5+8-LTS"
  }
 },
 "nbformat": 4,
 "nbformat_minor": 4
}

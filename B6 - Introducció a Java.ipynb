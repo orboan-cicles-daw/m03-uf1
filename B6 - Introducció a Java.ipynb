{
 "cells": [
  {
   "cell_type": "markdown",
   "id": "168ca567",
   "metadata": {},
   "source": [
    "# Introducció a Java (B)"
   ]
  },
  {
   "cell_type": "markdown",
   "id": "30e46f48",
   "metadata": {
    "ExecuteTime": {
     "end_time": "2021-08-26T13:06+0000",
     "start_time": "2021-08-26T13:06:34.650Z"
    }
   },
   "source": [
    "## Imprimir per pantalla en Java"
   ]
  },
  {
   "cell_type": "markdown",
   "id": "f498696b",
   "metadata": {
    "ExecuteTime": {
     "end_time": "2021-08-26T13:07+0000",
     "start_time": "2021-08-26T13:07:18.826Z"
    }
   },
   "source": [
    "> Els mètodes ``print()`` i ``println()`` de ``System.out`` admeten com a paràmetres qualsevol tipus de dada primitiu i els String.\n",
    "\n",
    "Veiem alguns exemples:"
   ]
  },
  {
   "cell_type": "code",
   "execution_count": 6,
   "id": "9be9da7d",
   "metadata": {
    "ExecuteTime": {
     "end_time": "2021-08-26T13:13+0000",
     "start_time": "2021-08-26T13:13:46.005Z"
    }
   },
   "outputs": [
    {
     "name": "stdout",
     "output_type": "stream",
     "text": [
      "byte: 127\n",
      "short: 32767\n",
      "int: 1000001\n",
      "long: 999999999\n"
     ]
    }
   ],
   "source": [
    "//Imprimim un byte\n",
    "byte b = 127;\n",
    "System.out.print(\"byte: \");\n",
    "System.out.println(b);\n",
    "\n",
    "//Imprimim un short\n",
    "short s = 32_767;\n",
    "System.out.print(\"short: \");\n",
    "System.out.println(s);\n",
    "\n",
    "//Imprimim un int\n",
    "int n = 1_000_001;\n",
    "System.out.print(\"int: \");\n",
    "System.out.println(n);\n",
    "\n",
    "//Imprimim un long\n",
    "long l = 999_999_999;\n",
    "System.out.print(\"long: \");\n",
    "System.out.println(l);"
   ]
  },
  {
   "cell_type": "code",
   "execution_count": 8,
   "id": "abe8b89f",
   "metadata": {
    "ExecuteTime": {
     "end_time": "2021-08-26T13:16+0000",
     "start_time": "2021-08-26T13:16:50.416Z"
    }
   },
   "outputs": [
    {
     "name": "stdout",
     "output_type": "stream",
     "text": [
      "char: J\n",
      "float: 3.14\n",
      "double: 2.718281828459045\n",
      "boolean: true\n"
     ]
    }
   ],
   "source": [
    "//Imprimim un char\n",
    "char c = 'J';\n",
    "System.out.print(\"char: \");\n",
    "System.out.println(c);\n",
    "\n",
    "//Imprimim un float\n",
    "float f = 3.14f;\n",
    "System.out.print(\"float: \");\n",
    "System.out.println(f);\n",
    "\n",
    "//Imprimim un double\n",
    "double d = 2.718281828459045;\n",
    "System.out.print(\"double: \");\n",
    "System.out.println(d);\n",
    "\n",
    "//Imprimim un boolean\n",
    "boolean bol = true;\n",
    "System.out.print(\"boolean: \");\n",
    "System.out.println(bol);"
   ]
  },
  {
   "cell_type": "markdown",
   "id": "9cc0f830",
   "metadata": {},
   "source": [
    "> Els mètodes ``print()`` i ``println()`` de ``System.out`` també admeten com a paràmetre qualsevol tipus d'objecte. En en aquest cas, **intentaran transformar l'objecte a un ``String`` i imprimiran aquest string**."
   ]
  },
  {
   "cell_type": "markdown",
   "id": "9d3a6899",
   "metadata": {
    "solution2": "hidden",
    "solution2_first": true
   },
   "source": [
    "**Exemple**:\n",
    "\n",
    "\n",
    "Per exemple, què passa si imprimim per pantalla el mateix objecte ``System.out``? "
   ]
  },
  {
   "cell_type": "markdown",
   "id": "2aab8adc",
   "metadata": {
    "solution2": "hidden"
   },
   "source": [
    "S'imprimirà la versió en forma d'``String`` d'aquest objecte, que ens diu primer de quina classe és (en aquest cas és de la classe ``PrintStream`` - classe que està ubicada al _package_ ``java.io`` de l'API de Java) i després de l'@ ens mostra un número que indica l'adreça de memòria de la JVM (_Java Virtual Machine_) on aquest objecte es troba carregat (tots els objectes, en crear-se, es carreguen a la memòria de la JVM):"
   ]
  },
  {
   "cell_type": "code",
   "execution_count": 9,
   "id": "73d8b3ab",
   "metadata": {
    "ExecuteTime": {
     "end_time": "2021-08-26T13:19+0000",
     "start_time": "2021-08-26T13:19:42.976Z"
    },
    "solution2": "hidden"
   },
   "outputs": [
    {
     "name": "stdout",
     "output_type": "stream",
     "text": [
      "java.io.PrintStream@752372bf"
     ]
    }
   ],
   "source": [
    "System.out.print(System.out);"
   ]
  },
  {
   "cell_type": "markdown",
   "id": "c302ac5b",
   "metadata": {},
   "source": [
    "## Seqüències d'escape"
   ]
  },
  {
   "cell_type": "markdown",
   "id": "1ea204c3",
   "metadata": {},
   "source": [
    "Les seqüències d'escape serveixen per a imprimir caràcters especials. \n",
    "\n",
    "> El caràter d'escape és la contrabarra ``\\``.\n",
    "\n",
    "Les seqüències d'escape més importants o més habituals són les següents:"
   ]
  },
  {
   "cell_type": "code",
   "execution_count": 14,
   "id": "28c892c8",
   "metadata": {
    "ExecuteTime": {
     "end_time": "2021-08-26T13:34+0000",
     "start_time": "2021-08-26T13:34:56.055Z"
    }
   },
   "outputs": [
    {
     "name": "stdout",
     "output_type": "stream",
     "text": [
      "Java\tt'estimo\n",
      "El millor llenguatge és:\n",
      "Java\n",
      "Em dic \"Java\"\n"
     ]
    }
   ],
   "source": [
    "//Per a imprimir un tabulador: \\t\n",
    "System.out.println(\"Java\\tt'estimo\");\n",
    "\n",
    "//Per a imprimir un nou salt de línia: \\n\n",
    "System.out.println(\"El millor llenguatge és:\\nJava\");\n",
    "\n",
    "//Per a imprimir les cometes dobles: \\\"\n",
    "System.out.println(\"Em dic \\\"Java\\\"\");"
   ]
  },
  {
   "cell_type": "markdown",
   "id": "3d89652f",
   "metadata": {},
   "source": [
    "## Formatant la sortida a imprimir"
   ]
  },
  {
   "cell_type": "markdown",
   "id": "1d474239",
   "metadata": {},
   "source": [
    "En els exemples anteriors hem vist com podem imprimir resultats o missatges usant ``print()`` o ``println()``. Emperò, hi haurà vegades en que voldrem tenir un control més gran sobre com surt imprimit el resultat. Per exemple, amb el següent ``println()`` obtenim un resultat numèric amb molts decimals:\n",
    "\n",
    "```java\n",
    "System.out.println(\"5.45 entre 3 és igual a \" + (5.45/3));\n",
    "\n",
    "//Obtenim:\n",
    "5.45 entre 3 és igual a 1.8166666666666667\n",
    "```\n",
    "\n",
    "Prova-ho:"
   ]
  },
  {
   "cell_type": "code",
   "execution_count": 18,
   "id": "3842db69",
   "metadata": {
    "ExecuteTime": {
     "end_time": "2021-08-26T16:13+0000",
     "start_time": "2021-08-26T16:13:44.702Z"
    }
   },
   "outputs": [
    {
     "name": "stdout",
     "output_type": "stream",
     "text": [
      "5.45 entre 3 és igual a 1.8166666666666667\n"
     ]
    }
   ],
   "source": [
    "System.out.println(\"5.45 entre 3 és igual a \" + (5.45/3));"
   ]
  },
  {
   "cell_type": "markdown",
   "id": "179d51c9",
   "metadata": {},
   "source": [
    "Moltes vegades no voldrem mostrar tants decimals, només en voldrem mostrar dos o tres, per exemple.\n",
    "\n",
    "> En aquests casos, i per a tenir un major control sobre com s'imprimeix un resultat, farem servir el mètode ``printf()`` (``f`` de _format_).\n",
    "\n",
    "El mètode ``printf()`` també és un mètode que pertany a la classe ``PrintStream`` i que **no** és ``static``. Així doncs, el cridarem també amb ``System.out``.\n",
    "\n"
   ]
  },
  {
   "cell_type": "markdown",
   "id": "309364ee",
   "metadata": {},
   "source": [
    "> El mètode ``printf()`` ha de rebre com a primer paràmetre un ``String``, que serà **la cadena de text a formatar**, i a continuació altres paràmetres (cap, un o varis) amb els valors de substitució, que es substituiran en la cadena de text a formatar.\n",
    "\n",
    "Vegem-ho amb un exemple:"
   ]
  },
  {
   "cell_type": "markdown",
   "id": "95bdea17",
   "metadata": {},
   "source": [
    "**Exemple 1**:\n",
    "\n",
    "```java\n",
    "System.out.printf(\"%.3f entre %d és igual a %.2f\", 5.45, 3, (5.45/3));\n",
    "\n",
    "//Obtenim:\n",
    "5.450 entre 3 és igual a 1.82\n",
    "```\n",
    "\n",
    "Prova-ho:"
   ]
  },
  {
   "cell_type": "code",
   "execution_count": 23,
   "id": "4fd0ef56",
   "metadata": {
    "ExecuteTime": {
     "end_time": "2021-08-26T16:25+0000",
     "start_time": "2021-08-26T16:25:22.758Z"
    }
   },
   "outputs": [
    {
     "name": "stdout",
     "output_type": "stream",
     "text": [
      "5.450 entre 3 és igual a 1.82"
     ]
    },
    {
     "data": {
      "text/plain": [
       "java.io.PrintStream@752372bf"
      ]
     },
     "execution_count": 23,
     "metadata": {},
     "output_type": "execute_result"
    }
   ],
   "source": [
    "System.out.printf(\"%.3f entre %d és igual a %.2f\", 5.45, 3, (5.45/3));"
   ]
  },
  {
   "cell_type": "markdown",
   "id": "4f86b8e7",
   "metadata": {},
   "source": [
    "``%.3f``, ``%d`` i ``%.2f`` són els **especificadors de format**, i seran substituits, **respectant el format especificat**, per cadascun dels valors que hi ha en els següents paràmetres, **en l'ordre en què hi estan**, és a dir:\n",
    "\n",
    "> ``%.3f`` serà substituit per 5.45, però amb un format de 3 decimals.\n",
    "\n",
    "> ``%d`` serà substituit per 3, però amb un format d'un sol dígit.\n",
    "\n",
    "> ``%.2f`` serà substituit pel resultat de 5.45/3, però mostrant només 2 decimals."
   ]
  },
  {
   "cell_type": "markdown",
   "id": "ba1d873b",
   "metadata": {},
   "source": [
    "**A tenir en compte**:\n",
    "\n",
    "> Els **especificadors de format** sempre comencen amb ``%`` i acaben amb un **_convertidor_** com ara ``f`` o ``d``.\n",
    "\n",
    "> Entre ``%`` i el convertidor hi ha el que anomenem **_flag_**.\n",
    "\n",
    "Per exemple, a l'especificador de format ``%.3f``, ``.3`` és el flag."
   ]
  },
  {
   "cell_type": "markdown",
   "id": "2d59eb86",
   "metadata": {},
   "source": [
    "### Convertidors"
   ]
  },
  {
   "cell_type": "markdown",
   "id": "11941593",
   "metadata": {},
   "source": [
    "#### El convertidor d'enters: d"
   ]
  },
  {
   "cell_type": "markdown",
   "id": "fe13a567",
   "metadata": {},
   "source": [
    "> ``d`` és el convertidor per a formatar valors numèrics enters com ara, ``byte``, ``short``, ``int`` o ``long``."
   ]
  },
  {
   "cell_type": "markdown",
   "id": "ce7d660b",
   "metadata": {},
   "source": [
    "Exemple 1:\n",
    "\n",
    "```java\n",
    "System.out.printf(\"%d\", 12);\n",
    "\n",
    "//Obtenim:\n",
    "12\n",
    "```"
   ]
  },
  {
   "cell_type": "code",
   "execution_count": 36,
   "id": "d01982dc",
   "metadata": {
    "ExecuteTime": {
     "end_time": "2021-08-26T16:44+0000",
     "start_time": "2021-08-26T16:44:09.112Z"
    }
   },
   "outputs": [
    {
     "name": "stdout",
     "output_type": "stream",
     "text": [
      "12"
     ]
    },
    {
     "data": {
      "text/plain": [
       "java.io.PrintStream@752372bf"
      ]
     },
     "execution_count": 36,
     "metadata": {},
     "output_type": "execute_result"
    }
   ],
   "source": [
    "System.out.printf(\"%d\", 12);"
   ]
  },
  {
   "cell_type": "markdown",
   "id": "6f8f1df2",
   "metadata": {},
   "source": [
    "Exemple 2:\n",
    "\n",
    "```java\n",
    "System.out.printf(\"%3d\", 12);\n",
    "\n",
    "//Obtenim (noteu que hi ha un espai abans de l'1):\n",
    " 12\n",
    "```"
   ]
  },
  {
   "cell_type": "code",
   "execution_count": 29,
   "id": "2b2ea37b",
   "metadata": {
    "ExecuteTime": {
     "end_time": "2021-08-26T16:39+0000",
     "start_time": "2021-08-26T16:39:29.288Z"
    }
   },
   "outputs": [
    {
     "name": "stdout",
     "output_type": "stream",
     "text": [
      " 12"
     ]
    },
    {
     "data": {
      "text/plain": [
       "java.io.PrintStream@752372bf"
      ]
     },
     "execution_count": 29,
     "metadata": {},
     "output_type": "execute_result"
    }
   ],
   "source": [
    "System.out.printf(\"%3d\", 12);"
   ]
  },
  {
   "cell_type": "markdown",
   "id": "c52a763c",
   "metadata": {},
   "source": [
    "Exemple 3:\n",
    "\n",
    "```java\n",
    "System.out.printf(\"%03d\", 12);\n",
    "\n",
    "//Obtenim (3 dígits):\n",
    "012\n",
    "```"
   ]
  },
  {
   "cell_type": "code",
   "execution_count": 30,
   "id": "e0b7e3da",
   "metadata": {
    "ExecuteTime": {
     "end_time": "2021-08-26T16:40+0000",
     "start_time": "2021-08-26T16:40:21.188Z"
    }
   },
   "outputs": [
    {
     "name": "stdout",
     "output_type": "stream",
     "text": [
      "012"
     ]
    },
    {
     "data": {
      "text/plain": [
       "java.io.PrintStream@752372bf"
      ]
     },
     "execution_count": 30,
     "metadata": {},
     "output_type": "execute_result"
    }
   ],
   "source": [
    "System.out.printf(\"%03d\", 12);"
   ]
  },
  {
   "cell_type": "markdown",
   "id": "b0ff2c0e",
   "metadata": {},
   "source": [
    "Exemple 4:\n",
    "\n",
    "```java\n",
    "System.out.printf(\"%d\", 12.9);\n",
    "\n",
    "//Obtenim un error, perquè 12.9 no és un enter.\n",
    "java.util.IllegalFormatConversionException: d != java.lang.Double\n",
    "```"
   ]
  },
  {
   "cell_type": "code",
   "execution_count": 35,
   "id": "426f08cd",
   "metadata": {
    "ExecuteTime": {
     "end_time": "2021-08-26T16:42+0000",
     "start_time": "2021-08-26T16:42:54.850Z"
    }
   },
   "outputs": [
    {
     "ename": "EvalException",
     "evalue": "d != java.lang.Double",
     "output_type": "error",
     "traceback": [
      "\u001b[1m\u001b[31m---------------------------------------------------------------------------\u001b[0m",
      "\u001b[1m\u001b[31mjava.util.IllegalFormatConversionException: d != java.lang.Double\u001b[0m",
      "\u001b[1m\u001b[31m\tat java.base/java.util.Formatter$FormatSpecifier.failConversion(Formatter.java:4426)\u001b[0m",
      "\u001b[1m\u001b[31m\tat java.base/java.util.Formatter$FormatSpecifier.printInteger(Formatter.java:2938)\u001b[0m",
      "\u001b[1m\u001b[31m\tat java.base/java.util.Formatter$FormatSpecifier.print(Formatter.java:2892)\u001b[0m",
      "\u001b[1m\u001b[31m\tat java.base/java.util.Formatter.format(Formatter.java:2673)\u001b[0m",
      "\u001b[1m\u001b[31m\tat java.base/java.io.PrintStream.format(PrintStream.java:1053)\u001b[0m",
      "\u001b[1m\u001b[31m\tat java.base/java.io.PrintStream.printf(PrintStream.java:949)\u001b[0m",
      "\u001b[1m\u001b[31m\tat .(#88:1)\u001b[0m"
     ]
    }
   ],
   "source": [
    "System.out.printf(\"%d\", 12.9);"
   ]
  },
  {
   "cell_type": "markdown",
   "id": "4b99c475",
   "metadata": {},
   "source": [
    "#### El convertidor de números en coma flotant: f"
   ]
  },
  {
   "cell_type": "markdown",
   "id": "6d68f727",
   "metadata": {},
   "source": [
    "> Recordeu que en Java, els **números en coma flotant** són els corresponents als tipus de dades primitius ``float``i ``double``."
   ]
  },
  {
   "cell_type": "markdown",
   "id": "a5b31b41",
   "metadata": {},
   "source": [
    "Exemple 1:\n",
    "\n",
    "```java\n",
    "System.out.printf(\"%.3f\", (5.45/3));\n",
    "\n",
    "//Obtenim:\n",
    "1.817\n",
    "```"
   ]
  },
  {
   "cell_type": "code",
   "execution_count": 41,
   "id": "56115ad8",
   "metadata": {
    "ExecuteTime": {
     "end_time": "2021-08-26T16:47+0000",
     "start_time": "2021-08-26T16:47:48.872Z"
    }
   },
   "outputs": [
    {
     "name": "stdout",
     "output_type": "stream",
     "text": [
      "1.817"
     ]
    },
    {
     "data": {
      "text/plain": [
       "java.io.PrintStream@752372bf"
      ]
     },
     "execution_count": 41,
     "metadata": {},
     "output_type": "execute_result"
    }
   ],
   "source": [
    "System.out.printf(\"%.3f\", (5.45/3));"
   ]
  },
  {
   "cell_type": "markdown",
   "id": "8a31840e",
   "metadata": {},
   "source": [
    "Exemple 2:\n",
    "\n",
    "```java\n",
    "System.out.printf(\"%.5f\", 5.45);\n",
    "\n",
    "//Obtenim:\n",
    "5.45000\n",
    "```"
   ]
  },
  {
   "cell_type": "code",
   "execution_count": 44,
   "id": "95547ca5",
   "metadata": {
    "ExecuteTime": {
     "end_time": "2021-08-26T16:48+0000",
     "start_time": "2021-08-26T16:48:48.424Z"
    }
   },
   "outputs": [
    {
     "name": "stdout",
     "output_type": "stream",
     "text": [
      "5.45000"
     ]
    },
    {
     "data": {
      "text/plain": [
       "java.io.PrintStream@752372bf"
      ]
     },
     "execution_count": 44,
     "metadata": {},
     "output_type": "execute_result"
    }
   ],
   "source": [
    "System.out.printf(\"%.5f\", 5.45);"
   ]
  },
  {
   "cell_type": "markdown",
   "id": "79d003d8",
   "metadata": {},
   "source": [
    "Exemple 3:\n",
    "\n",
    "```java\n",
    "System.out.printf(\"%f\", 12.0);\n",
    "\n",
    "//Obtenim:\n",
    "12.000000\n",
    "```"
   ]
  },
  {
   "cell_type": "code",
   "execution_count": 46,
   "id": "41a01f2e",
   "metadata": {
    "ExecuteTime": {
     "end_time": "2021-08-26T16:50+0000",
     "start_time": "2021-08-26T16:50:00.697Z"
    }
   },
   "outputs": [
    {
     "name": "stdout",
     "output_type": "stream",
     "text": [
      "12.000000"
     ]
    },
    {
     "data": {
      "text/plain": [
       "java.io.PrintStream@752372bf"
      ]
     },
     "execution_count": 46,
     "metadata": {},
     "output_type": "execute_result"
    }
   ],
   "source": [
    "System.out.printf(\"%f\", 12.0);"
   ]
  },
  {
   "cell_type": "markdown",
   "id": "839a636b",
   "metadata": {},
   "source": [
    "Exemple 4:\n",
    "\n",
    "```java\n",
    "System.out.printf(\"%f\", 12);\n",
    "\n",
    "//Ens retorna un error perquè 12 no és número en coma flotant:\n",
    "java.util.IllegalFormatConversionException: f != java.lang.Integer\n",
    "```"
   ]
  },
  {
   "cell_type": "code",
   "execution_count": 49,
   "id": "4236822f",
   "metadata": {
    "ExecuteTime": {
     "end_time": "2021-08-26T16:51+0000",
     "start_time": "2021-08-26T16:51:23.252Z"
    }
   },
   "outputs": [
    {
     "ename": "EvalException",
     "evalue": "f != java.lang.Integer",
     "output_type": "error",
     "traceback": [
      "\u001b[1m\u001b[31m---------------------------------------------------------------------------\u001b[0m",
      "\u001b[1m\u001b[31mjava.util.IllegalFormatConversionException: f != java.lang.Integer\u001b[0m",
      "\u001b[1m\u001b[31m\tat java.base/java.util.Formatter$FormatSpecifier.failConversion(Formatter.java:4426)\u001b[0m",
      "\u001b[1m\u001b[31m\tat java.base/java.util.Formatter$FormatSpecifier.printFloat(Formatter.java:2951)\u001b[0m",
      "\u001b[1m\u001b[31m\tat java.base/java.util.Formatter$FormatSpecifier.print(Formatter.java:2898)\u001b[0m",
      "\u001b[1m\u001b[31m\tat java.base/java.util.Formatter.format(Formatter.java:2673)\u001b[0m",
      "\u001b[1m\u001b[31m\tat java.base/java.io.PrintStream.format(PrintStream.java:1053)\u001b[0m",
      "\u001b[1m\u001b[31m\tat java.base/java.io.PrintStream.printf(PrintStream.java:949)\u001b[0m",
      "\u001b[1m\u001b[31m\tat .(#102:1)\u001b[0m"
     ]
    }
   ],
   "source": [
    "System.out.printf(\"%f\", 12);"
   ]
  },
  {
   "cell_type": "markdown",
   "id": "b44699b7",
   "metadata": {},
   "source": [
    "#### El convertidor de línia nova: n"
   ]
  },
  {
   "cell_type": "markdown",
   "id": "90344941",
   "metadata": {},
   "source": [
    "Aquest convertidor mou el cursor a la següent línia.\n",
    "\n",
    "Exemple:\n",
    "\n",
    "```java\n",
    "System.out.printf(\"%d%n%d\", 12, 3);\n",
    "\n",
    "//Obtenim:\n",
    "12\n",
    "3\n",
    "```\n",
    "\n",
    "Prova-ho:"
   ]
  },
  {
   "cell_type": "code",
   "execution_count": 50,
   "id": "408c339f",
   "metadata": {
    "ExecuteTime": {
     "end_time": "2021-08-26T16:54+0000",
     "start_time": "2021-08-26T16:54:05.066Z"
    }
   },
   "outputs": [
    {
     "name": "stdout",
     "output_type": "stream",
     "text": [
      "12\n",
      "3"
     ]
    },
    {
     "data": {
      "text/plain": [
       "java.io.PrintStream@752372bf"
      ]
     },
     "execution_count": 50,
     "metadata": {},
     "output_type": "execute_result"
    }
   ],
   "source": [
    "System.out.printf(\"%d%n%d\", 12, 3);"
   ]
  },
  {
   "cell_type": "markdown",
   "id": "18affb39",
   "metadata": {},
   "source": [
    "### Flags"
   ]
  },
  {
   "cell_type": "markdown",
   "id": "78e7b4de",
   "metadata": {},
   "source": [
    "#### El flag d'amplada"
   ]
  },
  {
   "cell_type": "markdown",
   "id": "2bbf5d49",
   "metadata": {},
   "source": [
    "> **El flag d'amplada és un número enter**. Aquest flag es fa servir per a especificar l'amplada total.\n",
    "\n",
    "Exemple 1:\n",
    "\n",
    "```java\n",
    "System.out.printf(\"%8d\", 12);\n",
    "\n",
    "//Obtenim (hi ha 6 espais abans de l'1):\n",
    "      12\n",
    "```"
   ]
  },
  {
   "cell_type": "code",
   "execution_count": 52,
   "id": "e341236b",
   "metadata": {
    "ExecuteTime": {
     "end_time": "2021-08-26T16:59+0000",
     "start_time": "2021-08-26T16:59:15.543Z"
    }
   },
   "outputs": [
    {
     "name": "stdout",
     "output_type": "stream",
     "text": [
      "      12"
     ]
    },
    {
     "data": {
      "text/plain": [
       "java.io.PrintStream@752372bf"
      ]
     },
     "execution_count": 52,
     "metadata": {},
     "output_type": "execute_result"
    }
   ],
   "source": [
    "System.out.printf(\"%8d\", 12);"
   ]
  },
  {
   "cell_type": "markdown",
   "id": "3f91d5d8",
   "metadata": {},
   "source": [
    "Exemple 2:\n",
    "\n",
    "```java\n",
    "System.out.printf(\"%8.2f\", 12.4);\n",
    "\n",
    "//Obtenim:\n",
    "   12.40\n",
    "```"
   ]
  },
  {
   "cell_type": "code",
   "execution_count": 54,
   "id": "8d5425c7",
   "metadata": {
    "ExecuteTime": {
     "end_time": "2021-08-26T17:00+0000",
     "start_time": "2021-08-26T17:00:34.264Z"
    }
   },
   "outputs": [
    {
     "name": "stdout",
     "output_type": "stream",
     "text": [
      "   12.40"
     ]
    },
    {
     "data": {
      "text/plain": [
       "java.io.PrintStream@752372bf"
      ]
     },
     "execution_count": 54,
     "metadata": {},
     "output_type": "execute_result"
    }
   ],
   "source": [
    "System.out.printf(\"%8.2f\", 12.4);"
   ]
  },
  {
   "cell_type": "markdown",
   "id": "49b44df2",
   "metadata": {},
   "source": [
    "#### El flag ``,`` separador de milers"
   ]
  },
  {
   "cell_type": "markdown",
   "id": "30b61044",
   "metadata": {},
   "source": [
    "Aquest flag s'utilitza perquè el número imprès mostri un separador de milers, així és més fàcil llegir-lo.\n",
    "\n",
    "**A tenir en compte**:\n",
    "\n",
    "> Els llenguatges de programació, inclòs Java, segueixen el sistema anglosaxó per a especificar els milers (amb una coma ``,``) i els decimals (amb un punt ``.``).\n",
    "\n",
    "En canvi, a Catalunya fem servir el punt ``.`` com a separador dels milers, i la coma ``,`` com a separadors dels decimals."
   ]
  },
  {
   "cell_type": "markdown",
   "id": "175a7d25",
   "metadata": {},
   "source": [
    "Exemple:\n",
    "\n",
    "```java\n",
    "System.out.printf(\"%,.2f\", 12345.56789);\n",
    "\n",
    "//Obtenim:\n",
    "12,345.57\n",
    "```"
   ]
  },
  {
   "cell_type": "code",
   "execution_count": 56,
   "id": "4fc33688",
   "metadata": {
    "ExecuteTime": {
     "end_time": "2021-08-26T17:07+0000",
     "start_time": "2021-08-26T17:07:31.555Z"
    }
   },
   "outputs": [
    {
     "name": "stdout",
     "output_type": "stream",
     "text": [
      "12,345.57"
     ]
    },
    {
     "data": {
      "text/plain": [
       "java.io.PrintStream@752372bf"
      ]
     },
     "execution_count": 56,
     "metadata": {},
     "output_type": "execute_result"
    }
   ],
   "source": [
    "System.out.printf(\"%,.2f\", 12345.56789);"
   ]
  },
  {
   "cell_type": "markdown",
   "id": "a0c0d651",
   "metadata": {},
   "source": [
    "## Exercicis"
   ]
  },
  {
   "cell_type": "markdown",
   "id": "46b11aa9",
   "metadata": {},
   "source": [
    "**Exercici 1**:\n",
    "\n",
    "Usant ``printf()`` i tres especificadors de format, imprimeix la data _1 d'Octubre de 2017_ amb un format de 2 dígits per al dia, 2 dígits per al mes, i 4 dígits per a l'any, separant dia, mes i any pel símbol ``/``. És a dir, el teu ``printf`` ha d'imprimir:\n",
    "\n",
    "```java\n",
    "01/10/2017\n",
    "```"
   ]
  },
  {
   "cell_type": "code",
   "execution_count": 57,
   "id": "c1be5924",
   "metadata": {
    "ExecuteTime": {
     "end_time": "2021-08-26T17:16+0000",
     "start_time": "2021-08-26T17:16:43.080Z"
    }
   },
   "outputs": [],
   "source": [
    "//La teva solució aquí:\n"
   ]
  },
  {
   "cell_type": "code",
   "execution_count": null,
   "id": "533c1e01",
   "metadata": {},
   "outputs": [],
   "source": []
  }
 ],
 "metadata": {
  "kernelspec": {
   "display_name": "Java",
   "language": "java",
   "name": "java"
  },
  "language_info": {
   "codemirror_mode": "java",
   "file_extension": ".jshell",
   "mimetype": "text/x-java-source",
   "name": "Java",
   "pygments_lexer": "java",
   "version": "11.0.17+8-LTS"
  },
  "nbTranslate": {
   "displayLangs": [
    "*"
   ],
   "hotkey": "alt-t",
   "langInMainMenu": true,
   "sourceLang": "en",
   "targetLang": "ca",
   "useGoogleTranslate": true
  },
  "toc": {
   "base_numbering": 1,
   "nav_menu": {},
   "number_sections": true,
   "sideBar": true,
   "skip_h1_title": false,
   "title_cell": "Table of Contents",
   "title_sidebar": "Contents",
   "toc_cell": false,
   "toc_position": {},
   "toc_section_display": true,
   "toc_window_display": true
  },
  "varInspector": {
   "cols": {
    "lenName": 16,
    "lenType": 16,
    "lenVar": 40
   },
   "kernels_config": {
    "python": {
     "delete_cmd_postfix": "",
     "delete_cmd_prefix": "del ",
     "library": "var_list.py",
     "varRefreshCmd": "print(var_dic_list())"
    },
    "r": {
     "delete_cmd_postfix": ") ",
     "delete_cmd_prefix": "rm(",
     "library": "var_list.r",
     "varRefreshCmd": "cat(var_dic_list()) "
    }
   },
   "types_to_exclude": [
    "module",
    "function",
    "builtin_function_or_method",
    "instance",
    "_Feature"
   ],
   "window_display": false
  }
 },
 "nbformat": 4,
 "nbformat_minor": 5
}

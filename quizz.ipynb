{
 "cells": [
  {
   "cell_type": "markdown",
   "id": "21e4b7ff",
   "metadata": {},
   "source": [
    "Quins dels següents valors són literals numèrics?\n",
    "\n",
    "a. 2000\n",
    "\n",
    "b. 2_000_321_099\n",
    "\n",
    "c. 7.3\n",
    "\n",
    "d. \"7\"\n",
    "\n",
    "e. \"2000\"\n",
    "\n",
    "f. '7'"
   ]
  },
  {
   "cell_type": "markdown",
   "id": "7a52a7e9",
   "metadata": {},
   "source": [
    "Write a program that reads the number and prints YES if it is positive. Otherwise, the program should print NO.\n",
    "\n",
    "Do not forget that zero is not a positive number.\n",
    "\n",
    "Sample Input 1:\n",
    "\n",
    "7\n",
    "\n",
    "Sample Output 1:\n",
    "\n",
    "YES"
   ]
  },
  {
   "cell_type": "markdown",
   "id": "67d39fd2",
   "metadata": {
    "ExecuteTime": {
     "end_time": "2021-08-21T10:48+0000",
     "start_time": "2021-08-21T10:48:45.675Z"
    }
   },
   "source": [
    "N squirrels found K nuts and decided to divide them equally. Determine how many nuts each squirrel will get.\n",
    "\n",
    "Input data format\n",
    "\n",
    "There are two positive numbers N and K, each of them is not greater than 10000.\n",
    "\n",
    "Sample Input 1:\n",
    "\n",
    "3\n",
    "\n",
    "14\n",
    "\n",
    "Sample Output 1:\n",
    "\n",
    "4"
   ]
  },
  {
   "cell_type": "markdown",
   "id": "efcea55f",
   "metadata": {},
   "source": [
    "Write a program that prints the following text:\n",
    "\n",
    "WE NEED TO\n",
    "\n",
    "LEARN JAVA\n",
    "\n",
    "AS QUICKLY AS POSSIBLE\n",
    "\n",
    "Hint: do not forget to print the empty lines!"
   ]
  },
  {
   "cell_type": "markdown",
   "id": "d8bddf99",
   "metadata": {},
   "source": [
    "Imagine this situation: you need to write a Java application to analyze data about the moons of Jupiter. The users of this application may run it on different operating systems. Some of the users prefer Linux, others use Mac OS, and for some, good old Windows is the best.\n",
    "\n",
    "How many versions of the application do you need to write to satisfy all users?\n",
    "\n",
    " Select one option from the list\n",
    "\n",
    "1 version\n",
    "\n",
    "2 versions\n",
    "\n",
    "3 versions\n",
    "\n",
    "As many versions as the total number of users"
   ]
  },
  {
   "cell_type": "markdown",
   "id": "c2f2db54",
   "metadata": {},
   "source": [
    "Java provides three forms of comments:\n",
    " Select one option from the list\n",
    "\n",
    "// single line, ** multi-line, /*/ Javadoc\n",
    "\n",
    "// single line, /*...*/ multi-line, /**...*/ Javadoc\n",
    "\n",
    "// single line, //...// multi-line //*...*// Javadoc\n",
    "\n",
    "/ single line, /* multi-line, ** Javadoc"
   ]
  },
  {
   "cell_type": "markdown",
   "id": "def39b85",
   "metadata": {},
   "source": [
    "Change the code sample to make the output look the following way:\n",
    "\n",
    "3 5 4\n",
    "\n",
    "To do that, assign the correct values to the corresponding variables!"
   ]
  },
  {
   "cell_type": "code",
   "execution_count": 2,
   "id": "308a07f4",
   "metadata": {
    "ExecuteTime": {
     "end_time": "2021-08-21T10:53+0000",
     "start_time": "2021-08-21T10:53:48.693Z"
    }
   },
   "outputs": [
    {
     "ename": "CompilationException",
     "evalue": "",
     "output_type": "error",
     "traceback": [
      "\u001b[1m\u001b[30m|   \u001b[1m\u001b[30m        System.out.println(\u001b[0m\u001b[1m\u001b[30m\u001b[41ma\u001b[0m\u001b[1m\u001b[30m + \" \" + b + \" \" + c);\u001b[0m",
      "\u001b[1m\u001b[31mvariable a might not have been initialized\u001b[0m",
      "",
      "\u001b[1m\u001b[30m|   \u001b[1m\u001b[30m        System.out.println(a + \" \" + \u001b[0m\u001b[1m\u001b[30m\u001b[41mb\u001b[0m\u001b[1m\u001b[30m + \" \" + c);\u001b[0m",
      "\u001b[1m\u001b[31mvariable b might not have been initialized\u001b[0m",
      "",
      "\u001b[1m\u001b[30m|   \u001b[1m\u001b[30m        System.out.println(a + \" \" + b + \" \" + \u001b[0m\u001b[1m\u001b[30m\u001b[41mc\u001b[0m\u001b[1m\u001b[30m);\u001b[0m",
      "\u001b[1m\u001b[31mvariable c might not have been initialized\u001b[0m",
      ""
     ]
    }
   ],
   "source": [
    "public class Main {\n",
    "\n",
    "    public static void main(String[] args) {\n",
    "        int a;\n",
    "        int b;\n",
    "        int c;\n",
    "\n",
    "        System.out.println(a + \" \" + b + \" \" + c);\n",
    "    }\n",
    "}"
   ]
  },
  {
   "cell_type": "code",
   "execution_count": null,
   "id": "1eff81f6",
   "metadata": {},
   "outputs": [],
   "source": []
  }
 ],
 "metadata": {
  "kernelspec": {
   "display_name": "Java",
   "language": "java",
   "name": "java"
  },
  "language_info": {
   "codemirror_mode": "java",
   "file_extension": ".jshell",
   "mimetype": "text/x-java-source",
   "name": "Java",
   "pygments_lexer": "java",
   "version": "11.0.17+8-LTS"
  },
  "nbTranslate": {
   "displayLangs": [
    "*"
   ],
   "hotkey": "alt-t",
   "langInMainMenu": true,
   "sourceLang": "en",
   "targetLang": "ca",
   "useGoogleTranslate": true
  },
  "toc": {
   "base_numbering": 1,
   "nav_menu": {},
   "number_sections": true,
   "sideBar": true,
   "skip_h1_title": false,
   "title_cell": "Table of Contents",
   "title_sidebar": "Contents",
   "toc_cell": false,
   "toc_position": {},
   "toc_section_display": true,
   "toc_window_display": false
  },
  "varInspector": {
   "cols": {
    "lenName": 16,
    "lenType": 16,
    "lenVar": 40
   },
   "kernels_config": {
    "python": {
     "delete_cmd_postfix": "",
     "delete_cmd_prefix": "del ",
     "library": "var_list.py",
     "varRefreshCmd": "print(var_dic_list())"
    },
    "r": {
     "delete_cmd_postfix": ") ",
     "delete_cmd_prefix": "rm(",
     "library": "var_list.r",
     "varRefreshCmd": "cat(var_dic_list()) "
    }
   },
   "types_to_exclude": [
    "module",
    "function",
    "builtin_function_or_method",
    "instance",
    "_Feature"
   ],
   "window_display": false
  }
 },
 "nbformat": 4,
 "nbformat_minor": 5
}

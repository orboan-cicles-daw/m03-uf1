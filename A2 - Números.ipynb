{
 "cells": [
  {
   "cell_type": "markdown",
   "id": "1b1a3856",
   "metadata": {},
   "source": [
    "# Números"
   ]
  },
  {
   "cell_type": "markdown",
   "id": "f593304f",
   "metadata": {
    "ExecuteTime": {
     "end_time": "2021-08-04T15:49+0000",
     "start_time": "2021-08-04T15:49:17.161Z"
    }
   },
   "source": [
    "## Sistemes numèrics"
   ]
  },
  {
   "cell_type": "markdown",
   "id": "fc24ea6f",
   "metadata": {},
   "source": [
    "Hi ha diferents sistemes numèrics per a diferents casos, perquè segons cada cas un sistema numèric és més convenient que un altre. Vegem alguns **exemples**:"
   ]
  },
  {
   "cell_type": "markdown",
   "id": "e7c00446",
   "metadata": {
    "ExecuteTime": {
     "end_time": "2021-08-04T15:52+0000",
     "start_time": "2021-08-04T15:52:03.181Z"
    }
   },
   "source": [
    "**Pes**: 1 pound = 16 ounces; 1Kg = 1000 g\n",
    "\n",
    "**Longitud**: 1 yard = 3 feet; 1 foot = 12 inches; 1 Km = 1000 m\n",
    "\n",
    "**A l'antiga Xina**: Ying/Yang - equivalent a un sistema binari\n",
    "\n",
    "**Decimal**: tenim deu símbols - {0, 1, 2, 3, 4, 5, 6, 7, 8, 9}\n",
    "\n",
    "**Binari**: tenim dos símbols - {0, 1}\n",
    "\n",
    "**Hexadecimal**: tenim setze símbols - 0, 1, 2, 3, 4, 5, 6, 7, 8, 9, A, B, C, D, E, F}\n",
    "\n",
    "**Mesura del temps**: 1 dia = 24 hores; 1 h = 60 minuts = 3600 segons\n"
   ]
  },
  {
   "cell_type": "markdown",
   "id": "50ec8d46-1f65-4fb9-baa4-b35211df8105",
   "metadata": {},
   "source": [
    "### Sistemes numèrics posicionals\n",
    "\n",
    "_Exemples_: decimal, binari, octal i hexadecimal.\n",
    "\n",
    "![exemples sistemes numèrics](./images/sistemes_numerics.png)"
   ]
  },
  {
   "cell_type": "markdown",
   "id": "4b6fbce2",
   "metadata": {},
   "source": [
    "\n",
    "\n",
    "\n"
   ]
  },
  {
   "cell_type": "markdown",
   "id": "d9b135b7",
   "metadata": {},
   "source": [
    "## Els ordinadors i el sistema binari"
   ]
  },
  {
   "cell_type": "markdown",
   "id": "265927b8",
   "metadata": {},
   "source": [
    "Els ordinadors són dispositius compostos de circuits electrònics, de manera que transmeten i emmagatzemen senyals elèctrics. Així, els ordinadors són capaços de representar la informació segons dos valors:\n",
    "\n",
    "* Passa o no passa corrent elèctric\n",
    "\n",
    "* Hi ha o no hi ha càrrega elèctrica emmagatzemada\n",
    "\n",
    "En programació d'ordinadors, representem aquests dos valors amb ``0`` i ``1``, o també amb ``true`` i ``false``. \n",
    "\n",
    "**Quan només disposem de dos símbols per a representar la informació, diem que tenim un sistema numèric binari.**"
   ]
  },
  {
   "cell_type": "markdown",
   "id": "64275480",
   "metadata": {},
   "source": [
    "### El ``bit``\n",
    "Així, els ordinadors representen la informació usant un sistema numèric binari. **La unitat d'emmagatzemament de la informació d'un sistema numèric binari s'anomena ``bit``**.\n",
    "\n",
    "Un ``bit`` pot guardar un ``0`` o un ``1``. "
   ]
  },
  {
   "cell_type": "markdown",
   "id": "aa79ebe0",
   "metadata": {},
   "source": [
    "### El ``byte``\n",
    "Els ordinadors estan construits d'una manera en la que els bits es troben agrupats en grups de bits, és a dir, mai trobarem un ``bit`` solt.\n",
    "\n",
    "El mínim número de bits que podem trobar agrupats junts en un ordinador són els grups de 8 bits. **Un grup de 8 bits s'anomena ``byte``**."
   ]
  },
  {
   "cell_type": "markdown",
   "id": "890c3244",
   "metadata": {},
   "source": [
    "### LSB\n",
    "**El Bit Menys Significant o LSB (_Least Significant Bit_) és el bit que està situat més a la dreta dins d'un ``byte``**:\n",
    "\n",
    "![lsb](images/Least_significant_bit.svg.png)\n",
    "\n",
    "El bit LSB representa **la unitat més petita d'informació** dins d'un byte, i es considera el primer bit del byte.\n",
    "\n",
    "**El primer bit de tot byte, l'LSB, està indexat amb un 0**. Això vol dir que els vuits bits d'un byte no es conten d'1 a 8, sino que **es conten de 0 a 7**. \n",
    "\n",
    "![indexs](images/byte-indexs.png)\n",
    "\n",
    "En aquest exemple diem, per exemple, que el valor del bit en la cinquena posició (índex 4) és 1.\n",
    "\n",
    "La posició amb índex 4 és la cinquena posició **començant des de la dreta**, perquè la primera posició s'indexa amb el 0 (i no amb l'1)."
   ]
  },
  {
   "cell_type": "markdown",
   "id": "83d0619d",
   "metadata": {},
   "source": [
    "### MSB\n",
    "**El Bit Més Significant o MSB (_Most Significant Bit_) és el bit que està situat més a l'esquerra dins d'un ``byte``**:\n",
    "\n",
    "![lsb](images/Most_significant_bit.svg.png)\n",
    "\n",
    "El bit MSB representa **la unitat més gran d'informació** dins d'un byte, i es considera el darrer bit del byte.\n",
    "\n",
    "**El darrer bit de tot byte, l'MSB, està indexat amb un 7**. Això vol dir que els vuits bits d'un byte no es conten d'1 a 8, sino que **es conten de 0 a 7**, com ja s'ha comentat a l'apartat anterior (LSB)."
   ]
  },
  {
   "cell_type": "markdown",
   "id": "4def93f8",
   "metadata": {},
   "source": [
    "### Quantitat d'informació\n",
    "\n",
    "En un sistema numèric binari, **amb 1 bit podem guardar 2 valors**: 0 i 1.\n",
    "\n"
   ]
  },
  {
   "cell_type": "markdown",
   "id": "8b283ce0",
   "metadata": {
    "solution2": "hidden",
    "solution2_first": true
   },
   "source": [
    "**Pregunta**: Quants valors es poden emmagatzemar amb 2 bits?"
   ]
  },
  {
   "cell_type": "markdown",
   "id": "c90da5d6",
   "metadata": {
    "solution2": "hidden"
   },
   "source": [
    "**Resposta**: Amb 2 bits podem emmagatzemar els següents valors:\n",
    "\n",
    "```\n",
    "00\n",
    "01\n",
    "10\n",
    "11\n",
    "```\n",
    "Per tant, amb 2 bits podem tenir fins a 4 valors diferents.\n",
    "\n"
   ]
  },
  {
   "cell_type": "markdown",
   "id": "4624c23a",
   "metadata": {
    "solution2": "hidden",
    "solution2_first": true
   },
   "source": [
    "**Pregunta**: Quants valors es poden emmagatzemar amb 3 bits?"
   ]
  },
  {
   "cell_type": "markdown",
   "id": "1cb6f0ab",
   "metadata": {
    "solution2": "hidden"
   },
   "source": [
    "**Resposta**: Amb 3 bits podem emmagatzemar els següents valors:\n",
    "```\n",
    "0 0 0\n",
    "0 0 1\n",
    "0 1 0\n",
    "0 1 1\n",
    "1 0 0 \n",
    "1 0 1\n",
    "1 1 0\n",
    "1 1 1\n",
    "```\n",
    "Per tant, amb 3 bits podem tenir fins a 8 valors diferents."
   ]
  },
  {
   "cell_type": "markdown",
   "id": "8632fb05",
   "metadata": {},
   "source": [
    "Si us fixeu, tenim:\n",
    "\n",
    "- amb 1 bit disposem de fins a 2 valors diferents i $2^1 = 2$\n",
    "\n",
    "- amb 2 bits disposem de fins a 4 valors diferents i $2^2 = 4$\n",
    "\n",
    "- amb 3 bits disposem de fins a 8 valors diferents i $2^3 = 8$\n",
    "\n",
    "És a dir, **el número $2$ elevat al número de bits de què disposem, ens dóna la quantitat de possibles valors diferents que podem emmagatzemar o representar amb aquest número de bits**. Per tant, i generalitzant:"
   ]
  },
  {
   "cell_type": "markdown",
   "id": "12496faa",
   "metadata": {
    "ExecuteTime": {
     "end_time": "2021-08-06T17:23+0000",
     "start_time": "2021-08-06T17:23:48.274Z"
    },
    "solution2": "hidden",
    "solution2_first": true
   },
   "source": [
    "**Pregunta**: Quants valors diferents podem emmagatzemar amb $n$ bits?"
   ]
  },
  {
   "cell_type": "markdown",
   "id": "3945515c",
   "metadata": {
    "solution2": "hidden"
   },
   "source": [
    "**Resposta**: $2^n$"
   ]
  },
  {
   "cell_type": "markdown",
   "id": "df183c0d",
   "metadata": {
    "solution2": "hidden",
    "solution2_first": true
   },
   "source": [
    "**Pregunta**: Quants valors diferents podem representar amb 1 byte?"
   ]
  },
  {
   "cell_type": "markdown",
   "id": "e7d27df3",
   "metadata": {
    "solution2": "hidden"
   },
   "source": [
    "**Resposta**: com que 1 byte està compost de 8 bits, amb un byte podem representar fins a $2^8$ valors diferents."
   ]
  },
  {
   "cell_type": "markdown",
   "id": "49f05fe8",
   "metadata": {},
   "source": [
    "### Rang de valors d'un sistema numèric binari"
   ]
  },
  {
   "cell_type": "markdown",
   "id": "50fe061c",
   "metadata": {},
   "source": [
    "Si volem fer servir 1 byte per a **representar** números enters positius, inclòs el 0 (és a dir, **números enters no negatius**) obtenim **el mínim valor possible, el 0**, quan tots els bits valen 0:\n",
    "\n",
    "![zero](images/byte-zero.png)"
   ]
  },
  {
   "cell_type": "markdown",
   "id": "81d5553b",
   "metadata": {},
   "source": [
    "I obtenim **el màxim valor possible** quan tots els bits valen 1:\n",
    "\n",
    "![uns](images/byte-u.png)"
   ]
  },
  {
   "cell_type": "markdown",
   "id": "e0d8ff55",
   "metadata": {
    "solution2": "hidden",
    "solution2_first": true
   },
   "source": [
    "**Pregunta**: Quin és aquest valor màxim en el **sistema numèric decimal**?"
   ]
  },
  {
   "cell_type": "markdown",
   "id": "60aca9ac",
   "metadata": {
    "solution2": "hidden"
   },
   "source": [
    "**Resposta**: El valor d'1 byte amb tots els seus bits a 1, en el sistema numèric decimal, es calcula sumant vuit potències de 2, cadascuna elevada a un exponent amb valor igual al de l'índex de cada bit que conté un 1 (en aquest cas, tots els vuit bits contenen un 1):\n",
    "\n",
    "$2^0 + 2^1 + 2^2 + 2^3 + 2^4 + 2^5 + 2^6 + 2^7 = $\n",
    "\n",
    "$1 + 2 + 4 + 8 + 16 + 32 + 64 + 128 = 255$"
   ]
  },
  {
   "cell_type": "markdown",
   "id": "758b6a27",
   "metadata": {},
   "source": [
    "Així, **el rang de valors enters no negatius representables amb 1 byte és**:\n",
    "\n",
    "```\n",
    "[0, 255]\n",
    "```"
   ]
  },
  {
   "cell_type": "markdown",
   "id": "db7f5c8c",
   "metadata": {},
   "source": [
    "\n",
    "> Com podem comprovar, en el rang ``[0,255]`` hi ha un total de 256 valors, que **coincideix amb la quantitat de valors que es poden representar amb 8 bits**: $2^8 = 256$\n",
    "\n",
    "> Així, el rang [0,255] es pot escriure així: $[0, 2^8 - 1]$\n"
   ]
  },
  {
   "cell_type": "markdown",
   "id": "1499da06",
   "metadata": {
    "solution2": "hidden",
    "solution2_first": true
   },
   "source": [
    "**Pregunta**: Si enlloc de tenir 8 bits tenim **n** bits, quin és el rang de valors possibles si volem representar enters no negatius?"
   ]
  },
  {
   "cell_type": "markdown",
   "id": "9baa3cab",
   "metadata": {
    "solution2": "hidden"
   },
   "source": [
    "**Resposta**: $[0, 2^n - 1]$"
   ]
  },
  {
   "cell_type": "markdown",
   "id": "e67e936e",
   "metadata": {},
   "source": [
    "## Transformació de binari a decimal"
   ]
  },
  {
   "cell_type": "markdown",
   "id": "44549a05",
   "metadata": {},
   "source": [
    "> Per a transformar un número enter no negatiu representat en binari, a decimal, **hem de sumar les potències de 2 corresponents a cada bit que tingui un 1**. L'exponent de cada potència serà igual **a l'índex del bit**.\n",
    "\n",
    "Vegem-ho amb un exemple:"
   ]
  },
  {
   "cell_type": "markdown",
   "id": "4afc0889",
   "metadata": {},
   "source": [
    "**Exemple 1**:\n",
    "\n",
    "![indexs](images/byte-indexs.png)\n",
    "\n",
    "$2^0 + 2^2 + 2^4 + 2^7 = 1 + 4 + 16 + 128 = 149$"
   ]
  },
  {
   "cell_type": "markdown",
   "id": "227211ff-9f15-41c8-8630-641f5310f161",
   "metadata": {},
   "source": [
    "**Exemple 2**:\n",
    "\n",
    "Com passem $1111110_{2)}$ a decimal?\n",
    "\n",
    "![binary to decimal](./images/binary_to_decimal.png)"
   ]
  },
  {
   "cell_type": "markdown",
   "id": "a0fbc9cb-79c3-4539-8963-4fcea6a6f135",
   "metadata": {},
   "source": [
    "## Transformació de decimal a binari"
   ]
  },
  {
   "cell_type": "markdown",
   "id": "705d765f-d14d-42a1-a8c2-f6bc8c6b97b2",
   "metadata": {},
   "source": [
    "**Exemple**:\n",
    "\n",
    "Com representem en binari el número decimal 126?\n",
    "\n",
    "![decimal to binary](./images/decimal_to_binary.png)"
   ]
  },
  {
   "cell_type": "markdown",
   "id": "e10e1ee7-2ad2-4776-b09f-7b47e98a1135",
   "metadata": {},
   "source": [
    "## Transformació d'hexadecimal a decimal"
   ]
  },
  {
   "cell_type": "markdown",
   "id": "521e03b0-96de-473f-839f-28c0cc6dfa95",
   "metadata": {},
   "source": [
    "**Exemple**:\n",
    "\n",
    "Com passem $7E_{16)}$ a decimal?\n",
    "\n",
    "![hex to decimal](./images/hex_to_decimal.png)"
   ]
  },
  {
   "cell_type": "markdown",
   "id": "739888e7-620b-49bd-ab52-b35dd3ead197",
   "metadata": {},
   "source": [
    "## Transformació de decimal a hexadecimal"
   ]
  },
  {
   "cell_type": "markdown",
   "id": "7ec29a5e-6eee-4052-b542-a8001b591552",
   "metadata": {},
   "source": [
    "**Exemple**:\n",
    "\n",
    "Quin és el valor en base 16 del número $126_{10)}$?\n",
    "\n",
    "![decimal to hex](./images/decimal_to_hex.png)"
   ]
  },
  {
   "cell_type": "markdown",
   "id": "697e87e4",
   "metadata": {
    "ExecuteTime": {
     "end_time": "2021-08-06T19:06+0000",
     "start_time": "2021-08-06T19:06:53.455Z"
    }
   },
   "source": [
    "## Exercicis"
   ]
  },
  {
   "cell_type": "markdown",
   "id": "e7ea913d",
   "metadata": {
    "ExecuteTime": {
     "end_time": "2021-08-06T19:09+0000",
     "start_time": "2021-08-06T19:09:01.133Z"
    }
   },
   "source": [
    "Us proposem que jugueu al joc que trobareu a la següent \n",
    "web per a practicar la transformació de binari a decimal:\n",
    "\n",
    "[BINARY BLITZ](https://games.penjee.com/binary-numbers-game/)\n",
    "\n",
    "Les instruccions estan en anglès, però és el joc és molt senzill i s'entén ràpidament."
   ]
  }
 ],
 "metadata": {
  "kernelspec": {
   "display_name": "Java",
   "language": "java",
   "name": "java"
  },
  "language_info": {
   "codemirror_mode": "java",
   "file_extension": ".jshell",
   "mimetype": "text/x-java-source",
   "name": "Java",
   "pygments_lexer": "java",
   "version": "17.0.8+7-b1000.8"
  },
  "nbTranslate": {
   "displayLangs": [
    "*"
   ],
   "hotkey": "alt-t",
   "langInMainMenu": true,
   "sourceLang": "en",
   "targetLang": "ca",
   "useGoogleTranslate": true
  },
  "toc": {
   "base_numbering": 1,
   "nav_menu": {},
   "number_sections": true,
   "sideBar": true,
   "skip_h1_title": false,
   "title_cell": "Table of Contents",
   "title_sidebar": "Contents",
   "toc_cell": false,
   "toc_position": {},
   "toc_section_display": true,
   "toc_window_display": false
  },
  "varInspector": {
   "cols": {
    "lenName": 16,
    "lenType": 16,
    "lenVar": 40
   },
   "kernels_config": {
    "python": {
     "delete_cmd_postfix": "",
     "delete_cmd_prefix": "del ",
     "library": "var_list.py",
     "varRefreshCmd": "print(var_dic_list())"
    },
    "r": {
     "delete_cmd_postfix": ") ",
     "delete_cmd_prefix": "rm(",
     "library": "var_list.r",
     "varRefreshCmd": "cat(var_dic_list()) "
    }
   },
   "types_to_exclude": [
    "module",
    "function",
    "builtin_function_or_method",
    "instance",
    "_Feature"
   ],
   "window_display": false
  }
 },
 "nbformat": 4,
 "nbformat_minor": 5
}
